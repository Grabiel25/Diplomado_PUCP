{
 "cells": [
  {
   "cell_type": "code",
   "execution_count": null,
   "id": "72171340-076e-477c-8653-5d9f6704e8db",
   "metadata": {},
   "outputs": [],
   "source": [
    "int = 30\n",
    "print(\"int:\", type(int))"
   ]
  },
  {
   "cell_type": "code",
   "execution_count": null,
   "id": "543e6cb5-9004-448e-904a-a6cc861ee60e",
   "metadata": {},
   "outputs": [],
   "source": [
    "float = 2.50\n",
    "print(\"float:\", type(float))"
   ]
  },
  {
   "cell_type": "code",
   "execution_count": null,
   "id": "d4efe86c-b1e5-469e-a926-8f79ecf1976b",
   "metadata": {},
   "outputs": [],
   "source": [
    "string = \"Lesly\"\n",
    "print(\"string:\", type(string))"
   ]
  },
  {
   "cell_type": "code",
   "execution_count": null,
   "id": "372b5660-92ed-4851-8d09-cc3a8533402c",
   "metadata": {},
   "outputs": [],
   "source": [
    "bool = True\n",
    "print(\"bool:\", type(bool))"
   ]
  },
  {
   "cell_type": "code",
   "execution_count": null,
   "id": "4130d746-f88d-49c1-862d-f70a6485b303",
   "metadata": {},
   "outputs": [],
   "source": [
    "list = [\"enero\", True, 30, 1.8, [\"Coldplay\", \"Michael Jackson\"]]"
   ]
  },
  {
   "cell_type": "code",
   "execution_count": null,
   "id": "6873f63d-9512-4457-8ed4-2bd40de04512",
   "metadata": {},
   "outputs": [],
   "source": [
    "list[0]"
   ]
  },
  {
   "cell_type": "code",
   "execution_count": null,
   "id": "3b99ce18-a99e-44c1-bc7c-74e3a87e25d9",
   "metadata": {},
   "outputs": [],
   "source": [
    "list[4]"
   ]
  },
  {
   "cell_type": "code",
   "execution_count": null,
   "id": "5a601a9b-d61b-4665-9ac4-f661d3f67929",
   "metadata": {},
   "outputs": [],
   "source": [
    "list.append(diciembre)"
   ]
  },
  {
   "cell_type": "code",
   "execution_count": null,
   "id": "e6b9525a-5104-4d40-ac7e-97cd9b8dfea7",
   "metadata": {},
   "outputs": [],
   "source": [
    "list.remove(True)"
   ]
  },
  {
   "cell_type": "code",
   "execution_count": null,
   "id": "2ab72cca-de5a-41b0-9d60-20600755bb4d",
   "metadata": {},
   "outputs": [],
   "source": [
    "A tuple is immutable, because that once it is created cannot be changed, addes o removed."
   ]
  },
  {
   "cell_type": "code",
   "execution_count": null,
   "id": "04fd5c7e-0a1a-4c69-b012-c57855cca31c",
   "metadata": {},
   "outputs": [],
   "source": [
    "new_tupla = (\"febrero\", True, 18, 20.0, 1.5)"
   ]
  }
 ],
 "metadata": {
  "kernelspec": {
   "display_name": "",
   "name": ""
  },
  "language_info": {
   "name": ""
  }
 },
 "nbformat": 4,
 "nbformat_minor": 5
}
