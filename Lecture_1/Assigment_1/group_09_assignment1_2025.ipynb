{
 "cells": [
  {
   "cell_type": "code",
   "execution_count": null,
   "id": "9822595f-4525-41f7-abc6-fe3422998dc9",
   "metadata": {},
   "outputs": [],
   "source": [
    "# 1. Explain the difference between working on a branch and working directly on main.\n",
    "# Why is it recommended to always use branches in collaborative projects?\n",
    "\n",
    "# Working directly on main means you are changing the primary production code, which should always remain stable and ready for deployment. \n",
    "# In contrast, working on a bra+nch allows you to develop, test, and fix issues in an isolated environment without affecting the main codebase.\n",
    "\n",
    "# It is recommended to always use branches in collaborative projects because they prevent breaking the main code, allow team members to work \n",
    "# independently, make code reviews easier, and keep the project organized and safe."
   ]
  },
  {
   "cell_type": "code",
   "execution_count": null,
   "id": "019cd883-ca41-42ad-b905-ce3b4befa8df",
   "metadata": {},
   "outputs": [],
   "source": [
    "# 6. Declare a variable for each of the following types: int, float, string, and boolean. - Rossana\n",
    "# Then print the type of each variable using the type() function "
   ]
  },
  {
   "cell_type": "code",
   "execution_count": 15,
   "id": "7b92d012-d823-493d-b2d1-c46ee66c6de3",
   "metadata": {},
   "outputs": [
    {
     "name": "stdout",
     "output_type": "stream",
     "text": [
      "['Manzana', True, 26, 6.3, ['Alex Turner', 'León Larregui']]\n",
      "Manzana\n",
      "León Larregui\n",
      "['Manzana', True, 26, 6.3, ['Alex Turner', 'León Larregui'], 'Papaya']\n",
      "['Manzana', 26, 6.3, ['Alex Turner', 'León Larregui'], 'Papaya']\n"
     ]
    }
   ],
   "source": [
    "# 7. Create a list that contains the following elements: - Pedro\n",
    "# A string\n",
    "# A boolean value\n",
    "# Two numeric values (of any type)\n",
    "# A list with two strings representing your favorite music artists \n",
    "\n",
    "list_pedro = [\"Manzana\", True, 26, 6.3, [\"Alex Turner\", \"León Larregui\"]] \n",
    "print(list_pedro)\n",
    "\n",
    "# From that list:\n",
    "\n",
    "# Access the first and the last element\n",
    "print(list_pedro[0])\n",
    "print(list_pedro[4][1])\n",
    "\n",
    "# Add a new string\n",
    "list_pedro.append(\"Papaya\")\n",
    "print(list_pedro)\n",
    "\n",
    "# Remove the boolean value\n",
    "list_pedro.remove(True)\n",
    "print(list_pedro)"
   ]
  },
  {
   "cell_type": "code",
   "execution_count": null,
   "id": "913e0d6f-469a-41cd-a9bf-a8733eb11abe",
   "metadata": {},
   "outputs": [],
   "source": [
    "# 8. Define a tuple that contains: [1 pts] - Bruno\n",
    "\n",
    "# A string\n",
    "# A boolean\n",
    "# A tuple with three numeric values (of any type)\n",
    "\n",
    "# Explain in your own words why a tuple is immutable and try to modify one of its elements to prove it.\n",
    "\n",
    "\n",
    "# Define the tuple\n",
    "my_tuple = (\"Hello\", True, (3.1415, 2.7183, 17))\n",
    "#Explanation: A tuple is immutable because once it is created, it cannot be modified. This means you cannot change, add, or remove elements from a tuple after it is defined.\n",
    "\n",
    "# Trying to modify an element of the tuple\n",
    "my_tuple[0] = \"Goodbye\"  # This will raise an error\n"
   ]
  },
  {
   "cell_type": "code",
   "execution_count": null,
   "id": "84dc33ea-b21e-4731-8c3b-7204e08f001f",
   "metadata": {},
   "outputs": [],
   "source": [
    "# 9. Write a Python function named movie_summary that takes as argument a dictionary of movies - Ulises\n",
    "\n",
    "movies = {\n",
    "  \"Inception\": {\"year\": 2010, \"genre\": \"Sci-Fi\"},\n",
    "  \"Parasite\": {\"year\": 2019, \"genre\": \"Drama\"},\n",
    "  \"Whiplash\": {\"year\": 2014, \"genre\": \"Drama\"}\n",
    "}\n",
    "\n",
    "# The function must return a list with sentences in the following format:\n",
    "# \"The movie Inception belongs to the Sci-Fi genre and was released in 2010.\""
   ]
  },
  {
   "cell_type": "code",
   "execution_count": null,
   "id": "8b3e15c9-27bb-4e7d-ae3d-6afceffff60c",
   "metadata": {},
   "outputs": [],
   "source": [
    "# 10. Using NumPy, generate a 4x4 matrix with random integers between 1 and 100. - Rossana\n",
    "# Then calculate:\n",
    "# * The mean per column\n",
    "# * The sum of the values in the main diagonal"
   ]
  },
  {
   "cell_type": "code",
   "execution_count": 18,
   "id": "262ea09a-9eb2-4335-a3ba-1c877d7ae1e8",
   "metadata": {},
   "outputs": [
    {
     "data": {
      "text/plain": [
       "Rosanna      15\n",
       "Ulises       17\n",
       "Bruno        20\n",
       "Pedro        11\n",
       "Luis         13\n",
       "Jorge        18\n",
       "Alejandra    19\n",
       "dtype: int64"
      ]
     },
     "execution_count": 18,
     "metadata": {},
     "output_type": "execute_result"
    }
   ],
   "source": [
    "# 11. From the list of grades [15, 17, 20, 11, 13, 18, 19], create a Pandas Series assigning student names as the index - Pedro\n",
    "# (for example: \"Ana\", \"Jorge\", \"Valeria\", etc.).\n",
    "\n",
    "import pandas as pd\n",
    "\n",
    "list_grades = [15, 17, 20, 11, 13, 18, 19]\n",
    "list_students = [\"Rosanna\", \"Ulises\", \"Bruno\", \"Pedro\", \"Luis\", \"Jorge\", \"Alejandra\"]\n",
    "\n",
    "data_grades = pd.Series( list_grades, index = list_students )\n",
    "data_grades"
   ]
  },
  {
   "cell_type": "code",
   "execution_count": null,
   "id": "4cde979d-477d-41ff-9a15-3f51df4a6d3c",
   "metadata": {},
   "outputs": [],
   "source": [
    "# 12. Using the Series created in the previous step, calculate: - Bruno\n",
    "\n",
    "# * The average of the grades.\n",
    "# * The student with the highest grade (use .idxmax()).\n",
    "# * The student with the lowest grade (use .idxmin()).\n",
    "\n",
    "# Calculate the average of the grades\n",
    "average_grade = data_grades.mean()\n",
    "\n",
    "# Student with the highest grade\n",
    "highest_grade_student = data_grades.idxmax()\n",
    "\n",
    "# Student with the lowest grade\n",
    "lowest_grade_student = data_grades.idxmin()\n",
    "\n",
    "# Display the results\n",
    "print(f\"Average Grade: {average_grade}\")\n",
    "print(f\"Student with the highest grade is: {highest_grade_student}\")\n",
    "print(f\"Student with the lowest grade is: {lowest_grade_student}\")\n"
   ]
  },
  {
   "cell_type": "code",
   "execution_count": null,
   "id": "47e57bf9-939f-4387-9771-5aa7f535c7d5",
   "metadata": {},
   "outputs": [],
   "source": [
    "# 13. Create a Series from a dictionary of countries and their capitals. - Ulises\n",
    "# Filter and display only those countries whose capital has more than 6 letters."
   ]
  },
  {
   "cell_type": "code",
   "execution_count": 24,
   "id": "0c63daa5-2952-4c2d-a781-47a0bb943bec",
   "metadata": {},
   "outputs": [
    {
     "name": "stdout",
     "output_type": "stream",
     "text": [
      "0       JANUARY\n",
      "1      FEBRUARY\n",
      "2         MARCH\n",
      "3         APRIL\n",
      "4           MAY\n",
      "5          JUNE\n",
      "6          JULY\n",
      "7        AUGUST\n",
      "8     SEPTEMBER\n",
      "9       OCTOBER\n",
      "10     NOVEMBER\n",
      "11     DECEMBER\n",
      "dtype: object\n"
     ]
    }
   ],
   "source": [
    "# 14. Create a Series containing several strings and convert all its elements to uppercase using the .apply(str.upper) method. - Pedro\n",
    "import pandas as pd\n",
    "\n",
    "months = pd.Series([\"january\", \"february\", \"march\", \"april\", \"may\", \"june\", \"july\", \"august\", \"september\", \"october\", \"november\", \"december\"])\n",
    "\n",
    "upper_months = months.apply(str.upper)\n",
    "print(upper_months)"
   ]
  },
  {
   "cell_type": "code",
   "execution_count": null,
   "id": "bf2cabb6-c30a-4a91-a3e3-840017f2ffe8",
   "metadata": {},
   "outputs": [],
   "source": []
  }
 ],
 "metadata": {
  "kernelspec": {
   "display_name": "Python 3 (ipykernel)",
   "language": "python",
   "name": "python3"
  },
  "language_info": {
   "codemirror_mode": {
    "name": "ipython",
    "version": 3
   },
   "file_extension": ".py",
   "mimetype": "text/x-python",
   "name": "python",
   "nbconvert_exporter": "python",
   "pygments_lexer": "ipython3",
   "version": "3.13.5"
  }
 },
 "nbformat": 4,
 "nbformat_minor": 5
}
