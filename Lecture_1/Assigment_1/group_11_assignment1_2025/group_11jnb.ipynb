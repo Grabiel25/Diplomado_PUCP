{
 "cells": [
  {
   "cell_type": "markdown",
   "id": "6a140cae",
   "metadata": {},
   "source": [
    "# Part 2 – Data Types and Data Structures"
   ]
  },
  {
   "cell_type": "markdown",
   "id": "e1667148",
   "metadata": {},
   "source": [
    "## 2.6 Declare a variable for each of the following types: int, float, string, and boolean. Then print the type of each variable using the type() function."
   ]
  },
  {
   "cell_type": "code",
   "execution_count": 7,
   "id": "88f5d6c5",
   "metadata": {},
   "outputs": [
    {
     "name": "stdout",
     "output_type": "stream",
     "text": [
      "<class 'int'>\n",
      "<class 'float'>\n",
      "<class 'str'>\n",
      "<class 'bool'>\n"
     ]
    }
   ],
   "source": [
    "int_var = 11\n",
    "float_var = 11.0\n",
    "string_var = \"GROUP ELEVEN\"\n",
    "boolean_var = 11>10\n",
    "\n",
    "# Print the type of each variable\n",
    "print(type(int_var))\n",
    "print(type(float_var))\n",
    "print(type(string_var))\n",
    "print(type(boolean_var))"
   ]
  },
  {
   "cell_type": "markdown",
   "id": "502cf2a7",
   "metadata": {},
   "source": [
    "## 2.7 Create a list that contains the following elements:\n",
    "A string, A boolean value, Two numeric values (of any type), A list with two strings representing your favorite music artists\n"
   ]
  },
  {
   "cell_type": "code",
   "execution_count": 8,
   "id": "1ff59fe9",
   "metadata": {},
   "outputs": [
    {
     "name": "stdout",
     "output_type": "stream",
     "text": [
      "['GROUP ELEVEN!', True, 42, 11.0, ['Enrique Bumbury', 'Maykel Blanco']]\n"
     ]
    }
   ],
   "source": [
    "list_1 = [\n",
    "    \"GROUP ELEVEN!\",      # A string\n",
    "    11>10,                # A boolean value\n",
    "    42,                   # First numeric value (integer)\n",
    "    11.0,                 # Second numeric value (float)\n",
    "    [\"Enrique Bumbury\", \"Maykel Blanco\"]  # List with two strings (favorite music artists)\n",
    "]\n",
    "\n",
    "# Print the list\n",
    "print(list_1)"
   ]
  },
  {
   "cell_type": "markdown",
   "id": "3966080b",
   "metadata": {},
   "source": [
    "*From that list:*\n",
    "2.2.1 Access the first and the last element"
   ]
  },
  {
   "cell_type": "code",
   "execution_count": 9,
   "id": "dfce2a25",
   "metadata": {},
   "outputs": [
    {
     "name": "stdout",
     "output_type": "stream",
     "text": [
      "GROUP ELEVEN!\n",
      "['Enrique Bumbury', 'Maykel Blanco']\n"
     ]
    }
   ],
   "source": [
    "first_element=list_1[0]\n",
    "last_element=list_1[4]\n",
    "print(first_element)\n",
    "print(last_element)"
   ]
  },
  {
   "cell_type": "markdown",
   "id": "b3cf4064",
   "metadata": {},
   "source": [
    "2.2.2 Add a new string\n"
   ]
  },
  {
   "cell_type": "code",
   "execution_count": 10,
   "id": "4213832f",
   "metadata": {},
   "outputs": [],
   "source": [
    "list_1.append(\"Led Zepellin\")"
   ]
  },
  {
   "cell_type": "markdown",
   "id": "ca806d24",
   "metadata": {},
   "source": [
    "2.2.3 Remove the boolean value"
   ]
  },
  {
   "cell_type": "code",
   "execution_count": 11,
   "id": "2b9496d9-adc8-44e4-92da-25701ba0c828",
   "metadata": {},
   "outputs": [],
   "source": [
    "list_1.remove(True)"
   ]
  },
  {
   "cell_type": "markdown",
   "id": "f48dbacd",
   "metadata": {},
   "source": [
    "2.2.4 Print the modified list"
   ]
  },
  {
   "cell_type": "code",
   "execution_count": 12,
   "id": "50e4555c",
   "metadata": {},
   "outputs": [
    {
     "name": "stdout",
     "output_type": "stream",
     "text": [
      "Modified list: ['GROUP ELEVEN!', 42, 11.0, ['Enrique Bumbury', 'Maykel Blanco'], 'Led Zepellin']\n"
     ]
    }
   ],
   "source": [
    "print(\"Modified list:\", list_1)"
   ]
  },
  {
   "cell_type": "markdown",
   "id": "eba17f36-c32f-47d9-bef7-6269e83ac20c",
   "metadata": {},
   "source": [
    "## 2.8. Define a tuple that contains:\n",
    "A string,\n",
    "A boolean,\n",
    "A tuple with three numeric values (of any type)"
   ]
  },
  {
   "cell_type": "code",
   "execution_count": 13,
   "id": "c4593e33",
   "metadata": {},
   "outputs": [
    {
     "name": "stdout",
     "output_type": "stream",
     "text": [
      "Error: 'tuple' object does not support item assignment\n"
     ]
    }
   ],
   "source": [
    "# Definimos la tupla\n",
    "my_tuple = (\"Hola\", True, (10, 20.5, 30))\n",
    "\n",
    "# Explicación: las tuplas son inmutables, es decir, no se pueden modificar después de ser creadas.\n",
    "# Probemos cambiar el primer elemento para demostrarlo:\n",
    "try:\n",
    "    my_tuple[0] = \"Holi\"\n",
    "except TypeError as e:\n",
    "    print(\"Error:\", e)  \n"
   ]
  },
  {
   "cell_type": "markdown",
   "id": "2b9a0fcb-e955-4a44-b2de-e6b00b9cd706",
   "metadata": {},
   "source": [
    "## 2.9. Write a Python function named movie_summary that takes as argument a dictionary of movies with the following structure:\n",
    "movies = {\n",
    "  \"Inception\": {\"year\": 2010, \"genre\": \"Sci-Fi\"},\n",
    "  \"Parasite\": {\"year\": 2019, \"genre\": \"Drama\"},\n",
    "  \"Whiplash\": {\"year\": 2014, \"genre\": \"Drama\"}\n",
    "}"
   ]
  },
  {
   "cell_type": "code",
   "execution_count": 14,
   "id": "a047acb9",
   "metadata": {},
   "outputs": [
    {
     "name": "stdout",
     "output_type": "stream",
     "text": [
      "['The movie Coraline belongs to the Dark Fantasy genre and was released in 2009.', 'The movie Spirited Away belongs to the Fantasy genre and was released in 2001.', 'The movie City of God belongs to the Crime Drama genre and was released in 2002.']\n"
     ]
    }
   ],
   "source": [
    "def movie_summary(movies):\n",
    "    summaries = []\n",
    "    for title, info in movies.items():\n",
    "        sentence = f\"The movie {title} belongs to the {info['genre']} genre and was released in {info['year']}.\"\n",
    "        summaries.append(sentence)\n",
    "    return summaries\n",
    "\n",
    "# Diccionario con mis películas favoritas\n",
    "movies = {\n",
    "    \"Coraline\": {\"year\": 2009, \"genre\": \"Dark Fantasy\"},\n",
    "    \"Spirited Away\": {\"year\": 2001, \"genre\": \"Fantasy\"},\n",
    "    \"City of God\": {\"year\": 2002, \"genre\": \"Crime Drama\"}\n",
    "}\n",
    "\n",
    "print(movie_summary(movies))\n"
   ]
  },
  {
   "cell_type": "markdown",
   "id": "30c3474b-e9c5-44f6-b90f-b91e628c9bc2",
   "metadata": {},
   "source": [
    "## 2.10. Using NumPy, generate a 4x4 matrix with random integers between 1 and 100.\n",
    "Then calculate: \n",
    "The mean per column, \n",
    "The sum of the values in the main diagonal"
   ]
  },
  {
   "cell_type": "code",
   "execution_count": 15,
   "id": "870f5b86-b9a9-47a4-afb5-08f8d263d8f0",
   "metadata": {},
   "outputs": [
    {
     "name": "stdout",
     "output_type": "stream",
     "text": [
      "4x4 matrix:\n",
      " [[66 89 15 13]\n",
      " [16 19 86  4]\n",
      " [25 32 23 80]\n",
      " [51 42 96 88]]\n",
      "mean per column: [39.5  45.5  55.   46.25]\n",
      "sum of the values in the main diagonal: 196\n"
     ]
    }
   ],
   "source": [
    "import numpy as np\n",
    "\n",
    "# Generamos matriz aleatoria 4x4 con enteros entre 1 y 100\n",
    "matrix = np.random.randint(1, 101, size=(4, 4))\n",
    "print(\"4x4 matrix:\\n\", matrix)\n",
    "\n",
    "# Media por columna\n",
    "mean_per_column = np.mean(matrix, axis=0)\n",
    "print(\"mean per column:\", mean_per_column)\n",
    "\n",
    "# Suma de la diagonal principal\n",
    "sum_diagonal = np.trace(matrix)\n",
    "print(\"sum of the values in the main diagonal:\", sum_diagonal)\n"
   ]
  },
  {
   "cell_type": "markdown",
   "id": "0aef31e5-fb3a-4f09-a3d2-173349b3390e",
   "metadata": {},
   "source": [
    "# Part 3 – Pandas Series"
   ]
  },
  {
   "cell_type": "code",
   "execution_count": null,
   "id": "29f1b2ab-2bef-48b2-bd25-e3dc3d3f5076",
   "metadata": {},
   "outputs": [],
   "source": []
  }
 ],
 "metadata": {
  "kernelspec": {
   "display_name": "Python 3 (ipykernel)",
   "language": "python",
   "name": "python3"
  },
  "language_info": {
   "codemirror_mode": {
    "name": "ipython",
    "version": 3
   },
   "file_extension": ".py",
   "mimetype": "text/x-python",
   "name": "python",
   "nbconvert_exporter": "python",
   "pygments_lexer": "ipython3",
   "version": "3.11.5"
  }
 },
 "nbformat": 4,
 "nbformat_minor": 5
}
