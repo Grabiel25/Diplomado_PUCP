{
 "cells": [
  {
   "cell_type": "markdown",
   "id": "6a140cae",
   "metadata": {},
   "source": [
    "# Part 2 – Data Types and Data Structures"
   ]
  },
  {
   "cell_type": "markdown",
   "id": "e1667148",
   "metadata": {},
   "source": [
    "## 2.1 Declare a variable for each of the following types: int, float, string, and boolean. Then print the type of each variable using the type() function.\n",
    "\n"
   ]
  },
  {
   "cell_type": "code",
   "execution_count": 1,
   "id": "88f5d6c5",
   "metadata": {},
   "outputs": [
    {
     "name": "stdout",
     "output_type": "stream",
     "text": [
      "<class 'int'>\n",
      "<class 'float'>\n",
      "<class 'str'>\n",
      "<class 'bool'>\n"
     ]
    }
   ],
   "source": [
    "int_var = 11\n",
    "float_var = 11.0\n",
    "string_var = \"GROUP ELEVEN\"\n",
    "boolean_var = 11>10\n",
    "\n",
    "# Print the type of each variable\n",
    "print(type(int_var))\n",
    "print(type(float_var))\n",
    "print(type(string_var))\n",
    "print(type(boolean_var))"
   ]
  },
  {
   "cell_type": "markdown",
   "id": "502cf2a7",
   "metadata": {},
   "source": [
    "## 2.2 Create a list that contains the following elements:\n",
    "*A string\n",
    "A boolean value\n",
    "Two numeric values (of any type)\n",
    "A list with two strings representing your favorite music artists\n"
   ]
  },
  {
   "cell_type": "code",
   "execution_count": 2,
   "id": "1ff59fe9",
   "metadata": {},
   "outputs": [
    {
     "name": "stdout",
     "output_type": "stream",
     "text": [
      "['GROUP ELEVEN!', True, 42, 11.0, ['Enrique Bumbury', 'Maykel Blanco']]\n"
     ]
    }
   ],
   "source": [
    "list_1 = [\n",
    "    \"GROUP ELEVEN!\",      # A string\n",
    "    11>10,                # A boolean value\n",
    "    42,                   # First numeric value (integer)\n",
    "    11.0,                 # Second numeric value (float)\n",
    "    [\"Enrique Bumbury\", \"Maykel Blanco\"]  # List with two strings (favorite music artists)\n",
    "]\n",
    "\n",
    "# Print the list\n",
    "print(list_1)"
   ]
  },
  {
   "cell_type": "markdown",
   "id": "3966080b",
   "metadata": {},
   "source": [
    "*From that list:*\n",
    "2.2.1 Access the first and the last element"
   ]
  },
  {
   "cell_type": "code",
   "execution_count": 5,
   "id": "dfce2a25",
   "metadata": {},
   "outputs": [
    {
     "name": "stdout",
     "output_type": "stream",
     "text": [
      "GROUP ELEVEN!\n",
      "['Enrique Bumbury', 'Maykel Blanco']\n"
     ]
    }
   ],
   "source": [
    "first_element=list_1[0]\n",
    "last_element=list_1[4]\n",
    "print(first_element)\n",
    "print(last_element)"
   ]
  },
  {
   "cell_type": "markdown",
   "id": "b3cf4064",
   "metadata": {},
   "source": [
    "2.2.2 Add a new string\n"
   ]
  },
  {
   "cell_type": "code",
   "execution_count": 7,
   "id": "4213832f",
   "metadata": {},
   "outputs": [],
   "source": [
    "list_1.append(\"Led Zepelling\")"
   ]
  },
  {
   "cell_type": "markdown",
   "id": "ca806d24",
   "metadata": {},
   "source": [
    "2.2.3 Remove the boolean value"
   ]
  },
  {
   "cell_type": "code",
   "execution_count": 10,
   "id": "1c0ad7e5",
   "metadata": {},
   "outputs": [],
   "source": [
    "list_1.remove(True)"
   ]
  },
  {
   "cell_type": "markdown",
   "id": "f48dbacd",
   "metadata": {},
   "source": [
    "2.2.4 Print the modified list"
   ]
  },
  {
   "cell_type": "code",
   "execution_count": 11,
   "id": "50e4555c",
   "metadata": {},
   "outputs": [
    {
     "name": "stdout",
     "output_type": "stream",
     "text": [
      "Modified list: ['GROUP ELEVEN!', 42, 11.0, ['Enrique Bumbury', 'Maykel Blanco'], 'Led Zepelling']\n"
     ]
    }
   ],
   "source": [
    "print(\"Modified list:\", list_1)"
   ]
  },
  {
   "cell_type": "code",
   "execution_count": null,
   "id": "14b97535",
   "metadata": {},
   "outputs": [],
   "source": []
  },
  {
   "cell_type": "code",
   "execution_count": null,
   "id": "c4593e33",
   "metadata": {},
   "outputs": [],
   "source": []
  },
  {
   "cell_type": "code",
   "execution_count": null,
   "id": "ba577c79",
   "metadata": {},
   "outputs": [],
   "source": []
  },
  {
   "cell_type": "code",
   "execution_count": null,
   "id": "a047acb9",
   "metadata": {},
   "outputs": [],
   "source": []
  },
  {
   "cell_type": "code",
   "execution_count": null,
   "id": "1caa0255",
   "metadata": {},
   "outputs": [],
   "source": []
  }
 ],
 "metadata": {
  "kernelspec": {
   "display_name": "Python 3 (ipykernel)",
   "language": "python",
   "name": "python3"
  },
  "language_info": {
   "codemirror_mode": {
    "name": "ipython",
    "version": 3
   },
   "file_extension": ".py",
   "mimetype": "text/x-python",
   "name": "python",
   "nbconvert_exporter": "python",
   "pygments_lexer": "ipython3",
   "version": "3.11.5"
  }
 },
 "nbformat": 4,
 "nbformat_minor": 5
}
