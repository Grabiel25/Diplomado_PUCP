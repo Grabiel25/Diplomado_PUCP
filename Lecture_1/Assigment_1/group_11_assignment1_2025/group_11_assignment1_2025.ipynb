{
 "cells": [
  {
   "cell_type": "markdown",
<<<<<<< Updated upstream
   "id": "f0b8155a",
=======
   "id": "86803664",
>>>>>>> Stashed changes
   "metadata": {},
   "source": [
    "# Part 2 – Data Types and Data Structures"
   ]
  },
  {
   "cell_type": "markdown",
<<<<<<< Updated upstream
   "id": "3d102ab9",
=======
   "id": "f414fd75",
>>>>>>> Stashed changes
   "metadata": {},
   "source": [
    "## 2.1 Declare a variable for each of the following types: int, float, string, and boolean. |Then print the type of each variable using the type() function."
   ]
  },
  {
   "cell_type": "markdown",
<<<<<<< Updated upstream
   "id": "4d0f8f8b",
=======
   "id": "9d6c1a66",
>>>>>>> Stashed changes
   "metadata": {},
   "source": [
    "*Declare variables of different types*"
   ]
  },
  {
   "cell_type": "code",
   "execution_count": 1,
<<<<<<< Updated upstream
   "id": "3375bf22",
=======
   "id": "790cec18",
>>>>>>> Stashed changes
   "metadata": {},
   "outputs": [],
   "source": [
    "int_v = 11\n",
    "float_v = 11.0\n",
    "string_v = \"group eleven\"\n",
    "boolean_v = 11>10"
   ]
  },
  {
   "cell_type": "markdown",
<<<<<<< Updated upstream
   "id": "abbcd8a4",
=======
   "id": "7d415a0c",
>>>>>>> Stashed changes
   "metadata": {},
   "source": [
    "*Print the type of each variable*"
   ]
  },
  {
   "cell_type": "code",
   "execution_count": 2,
<<<<<<< Updated upstream
   "id": "9b679939",
=======
   "id": "47dbb91a",
>>>>>>> Stashed changes
   "metadata": {},
   "outputs": [
    {
     "name": "stdout",
     "output_type": "stream",
     "text": [
      "<class 'int'>\n",
      "<class 'float'>\n",
      "<class 'str'>\n",
      "<class 'bool'>\n"
     ]
    }
   ],
   "source": [
    "print(type(int_v))\n",
    "print(type(float_v))\n",
    "print(type(string_v))\n",
    "print(type(boolean_v))"
   ]
  },
  {
   "cell_type": "markdown",
<<<<<<< Updated upstream
   "id": "1cecd26f",
=======
   "id": "1da1f6b5",
>>>>>>> Stashed changes
   "metadata": {},
   "source": [
    "## 2.2 Create a list that contains the following elements:\n",
    "\n",
    "**A string\n",
    "A boolean value\n",
    "Two numeric values (of any type)\n",
    "A list with two strings representing your favorite music artists**"
   ]
  },
  {
   "cell_type": "code",
   "execution_count": 4,
<<<<<<< Updated upstream
   "id": "2b1d075d",
=======
   "id": "21772507",
>>>>>>> Stashed changes
   "metadata": {},
   "outputs": [
    {
     "name": "stdout",
     "output_type": "stream",
     "text": [
      "['group eleven!', True, 42, 3.14, ['Maykel Blanco', 'Enrique Bumbury']]\n"
     ]
    }
   ],
   "source": [
    "list_1 = [\n",
    "    \"group eleven!\",\n",
    "    11<20,        \n",
    "    42,             \n",
    "    3.14,     \n",
    "    [\"Maykel Blanco\", \"Enrique Bumbury\"]]\n",
    "print(list_1)"
   ]
  },
  {
   "cell_type": "markdown",
<<<<<<< Updated upstream
   "id": "5eb3d570",
=======
   "id": "75b03f09",
>>>>>>> Stashed changes
   "metadata": {},
   "source": [
    "*Access the first and the last element*"
   ]
  },
  {
   "cell_type": "code",
   "execution_count": 18,
<<<<<<< Updated upstream
   "id": "2b27ed12",
=======
   "id": "28e42cf1",
>>>>>>> Stashed changes
   "metadata": {},
   "outputs": [
    {
     "name": "stdout",
     "output_type": "stream",
     "text": [
      "group eleven!\n",
      "['Maykel Blanco', 'Enrique Bumbury']\n"
     ]
    }
   ],
   "source": [
    "first_element=list_1[0]\n",
    "last_element=list_1[4]\n",
    "print(first_element)\n",
    "print(last_element)"
   ]
  },
  {
   "cell_type": "markdown",
<<<<<<< Updated upstream
   "id": "cc61ac9d",
=======
   "id": "e7f60dfe",
>>>>>>> Stashed changes
   "metadata": {},
   "source": [
    "*Add a new string*"
   ]
  },
  {
   "cell_type": "code",
   "execution_count": 19,
<<<<<<< Updated upstream
   "id": "537fdc60",
=======
   "id": "f09838da",
>>>>>>> Stashed changes
   "metadata": {},
   "outputs": [],
   "source": [
    "list_1.append(\"Juaquin Savina\")"
   ]
  },
  {
   "cell_type": "markdown",
<<<<<<< Updated upstream
   "id": "06c42c1d",
=======
   "id": "0cad4188",
>>>>>>> Stashed changes
   "metadata": {},
   "source": [
    "*Remove the boolean value (True)*"
   ]
  },
  {
   "cell_type": "code",
   "execution_count": 20,
<<<<<<< Updated upstream
   "id": "6c880606",
=======
   "id": "f7bd128b",
>>>>>>> Stashed changes
   "metadata": {},
   "outputs": [],
   "source": [
    "list_1.remove(True)"
   ]
  },
  {
   "cell_type": "code",
   "execution_count": 21,
<<<<<<< Updated upstream
   "id": "1e1967bb",
=======
   "id": "f0900050",
>>>>>>> Stashed changes
   "metadata": {},
   "outputs": [
    {
     "name": "stdout",
     "output_type": "stream",
     "text": [
      "Modified list: ['group eleven!', 42, 3.14, ['Maykel Blanco', 'Enrique Bumbury'], 'Juaquin Savina']\n"
     ]
    }
   ],
   "source": [
    "print(\"Modified list:\", list_1)"
   ]
  },
  {
   "cell_type": "code",
   "execution_count": null,
<<<<<<< Updated upstream
   "id": "2fa5c9f7",
=======
   "id": "ae1f3872",
>>>>>>> Stashed changes
   "metadata": {},
   "outputs": [],
   "source": []
  }
 ],
 "metadata": {
  "kernelspec": {
   "display_name": "Python 3 (ipykernel)",
   "language": "python",
   "name": "python3"
  },
  "language_info": {
   "codemirror_mode": {
    "name": "ipython",
    "version": 3
   },
   "file_extension": ".py",
   "mimetype": "text/x-python",
   "name": "python",
   "nbconvert_exporter": "python",
   "pygments_lexer": "ipython3",
   "version": "3.11.5"
  }
 },
 "nbformat": 4,
 "nbformat_minor": 5
}
