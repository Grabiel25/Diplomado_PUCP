{
 "cells": [
  {
   "cell_type": "markdown",
   "id": "d044454d",
   "metadata": {},
   "source": [
    "# Part 2 – Data Types and Data Structures"
   ]
  },
  {
   "cell_type": "markdown",
   "id": "d42d6c3e",
   "metadata": {},
   "source": [
    "## 2.1 Declare a variable for each of the following types: int, float, string, and boolean. |Then print the type of each variable using the type() function."
   ]
  },
  {
   "cell_type": "markdown",
   "id": "15b15dbf",
   "metadata": {},
   "source": [
    "*Declare variables of different types*"
   ]
  },
  {
   "cell_type": "code",
   "execution_count": 1,
   "id": "a219dac7",
   "metadata": {},
   "outputs": [],
   "source": [
    "int_v = 11\n",
    "float_v = 11.0\n",
    "string_v = \"group eleven\"\n",
    "boolean_v = 11>10"
   ]
  },
  {
   "cell_type": "markdown",
   "id": "612efc77",
   "metadata": {},
   "source": [
    "*Print the type of each variable*"
   ]
  },
  {
   "cell_type": "code",
   "execution_count": 2,
   "id": "4f638c1f",
   "metadata": {},
   "outputs": [
    {
     "name": "stdout",
     "output_type": "stream",
     "text": [
      "<class 'int'>\n",
      "<class 'float'>\n",
      "<class 'str'>\n",
      "<class 'bool'>\n"
     ]
    }
   ],
   "source": [
    "print(type(int_v))\n",
    "print(type(float_v))\n",
    "print(type(string_v))\n",
    "print(type(boolean_v))"
   ]
  },
  {
   "cell_type": "markdown",
   "id": "e9d6aa06",
   "metadata": {},
   "source": [
    "## Create a list that contains the following elements:\n",
    "\n",
    "**A string\n",
    "A boolean value\n",
    "Two numeric values (of any type)\n",
    "A list with two strings representing your favorite music artists**"
   ]
  },
  {
   "cell_type": "code",
   "execution_count": 4,
   "id": "77d8375a",
   "metadata": {},
   "outputs": [
    {
     "name": "stdout",
     "output_type": "stream",
     "text": [
      "['group eleven!', True, 42, 3.14, ['Maykel Blanco', 'Enrique Bumbury']]\n"
     ]
    }
   ],
   "source": [
    "list_1 = [\n",
    "    \"group eleven!\",\n",
    "    11<20,        \n",
    "    42,             \n",
    "    3.14,     \n",
    "    [\"Maykel Blanco\", \"Enrique Bumbury\"]]\n",
    "print(list_1)"
   ]
  },
  {
   "cell_type": "markdown",
   "id": "f4560715",
   "metadata": {},
   "source": [
    "*Access the first and the last element*"
   ]
  },
  {
   "cell_type": "code",
   "execution_count": 18,
   "id": "26e38af4",
   "metadata": {},
   "outputs": [
    {
     "name": "stdout",
     "output_type": "stream",
     "text": [
      "group eleven!\n",
      "['Maykel Blanco', 'Enrique Bumbury']\n"
     ]
    }
   ],
   "source": [
    "first_element=list_1[0]\n",
    "last_element=list_1[4]\n",
    "print(first_element)\n",
    "print(last_element)"
   ]
  },
  {
   "cell_type": "markdown",
   "id": "1af5bf6b",
   "metadata": {},
   "source": [
    "*Add a new string*"
   ]
  },
  {
   "cell_type": "code",
   "execution_count": 19,
   "id": "aa27e34d",
   "metadata": {},
   "outputs": [],
   "source": [
    "list_1.append(\"Juaquin Savina\")"
   ]
  },
  {
   "cell_type": "markdown",
   "id": "b0456676",
   "metadata": {},
   "source": [
    "*Remove the boolean value (True)*"
   ]
  },
  {
   "cell_type": "code",
   "execution_count": 20,
   "id": "f66fd2c3",
   "metadata": {},
   "outputs": [],
   "source": [
    "list_1.remove(True)"
   ]
  },
  {
   "cell_type": "code",
   "execution_count": 21,
   "id": "ba09edec",
   "metadata": {},
   "outputs": [
    {
     "name": "stdout",
     "output_type": "stream",
     "text": [
      "Modified list: ['group eleven!', 42, 3.14, ['Maykel Blanco', 'Enrique Bumbury'], 'Juaquin Savina']\n"
     ]
    }
   ],
   "source": [
    "print(\"Modified list:\", list_1)"
   ]
  },
  {
   "cell_type": "code",
   "execution_count": null,
   "id": "9f221c26",
   "metadata": {},
   "outputs": [],
   "source": []
  }
 ],
 "metadata": {
  "kernelspec": {
   "display_name": "Python 3 (ipykernel)",
   "language": "python",
   "name": "python3"
  },
  "language_info": {
   "codemirror_mode": {
    "name": "ipython",
    "version": 3
   },
   "file_extension": ".py",
   "mimetype": "text/x-python",
   "name": "python",
   "nbconvert_exporter": "python",
   "pygments_lexer": "ipython3",
   "version": "3.11.5"
  }
 },
 "nbformat": 4,
 "nbformat_minor": 5
}
