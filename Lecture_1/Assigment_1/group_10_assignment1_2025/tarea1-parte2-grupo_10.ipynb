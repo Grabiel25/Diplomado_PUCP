{
 "cells": [
  {
   "cell_type": "markdown",
   "id": "a9e57f37",
   "metadata": {},
   "source": [
    "## TAREA 1 - Parte 2\n"
   ]
  },
  {
   "cell_type": "code",
   "execution_count": 1,
   "id": "7c4ba648",
   "metadata": {},
   "outputs": [],
   "source": [
    "# Pregunta 6. Declaramos una variable de cada tipo:\n",
    "entero = 10            #int\n",
    "decimal = 3.14         #float\n",
    "texto = \"Buenos días\"  #string\n",
    "booleano = True        #booleano"
   ]
  },
  {
   "cell_type": "code",
   "execution_count": 2,
   "id": "f2ad5c23",
   "metadata": {},
   "outputs": [
    {
     "name": "stdout",
     "output_type": "stream",
     "text": [
      "<class 'int'>\n",
      "<class 'float'>\n",
      "<class 'str'>\n",
      "<class 'bool'>\n"
     ]
    }
   ],
   "source": [
    "# Mostramos las variables\n",
    "print(type(entero))   \n",
    "print(type(decimal))  \n",
    "print(type(texto))   \n",
    "print(type(booleano)) "
   ]
  },
  {
   "cell_type": "code",
   "execution_count": 3,
   "id": "8dc8f70e",
   "metadata": {},
   "outputs": [],
   "source": [
    "# Pregunta 7. Creamos una lista:\n",
    "equipo_10 = [\n",
    "    \"Equipo\",                # string\n",
    "    True,                    # booleano\n",
    "    10,                      # número entero\n",
    "    3.14,                    # número decimal\n",
    "    [\"Shakira\", \"Miranda\"]     # lista con dos strings\n",
    "]"
   ]
  },
  {
   "cell_type": "code",
   "execution_count": 4,
   "id": "edd0c75a",
   "metadata": {},
   "outputs": [
    {
     "name": "stdout",
     "output_type": "stream",
     "text": [
      "Primer elemento: Equipo\n"
     ]
    }
   ],
   "source": [
    "# Accedemos al primer elemento:\n",
    "print(\"Primer elemento:\", equipo_10[0])"
   ]
  },
  {
   "cell_type": "code",
   "execution_count": 5,
   "id": "06757703",
   "metadata": {},
   "outputs": [
    {
     "name": "stdout",
     "output_type": "stream",
     "text": [
      "Último elemento: ['Shakira', 'Miranda']\n"
     ]
    }
   ],
   "source": [
    "# Accedemos al último elemento\n",
    "print(\"Último elemento:\", equipo_10[-1])"
   ]
  },
  {
   "cell_type": "code",
   "execution_count": 6,
   "id": "db0cec32",
   "metadata": {},
   "outputs": [
    {
     "name": "stdout",
     "output_type": "stream",
     "text": [
      "Lista después de agregar un string: ['Equipo', True, 10, 3.14, ['Shakira', 'Miranda'], 'Katty Perry']\n"
     ]
    }
   ],
   "source": [
    "# Agregamos un nuevo string\n",
    "equipo_10.append(\"Katty Perry\")\n",
    "print(\"Lista después de agregar un string:\", equipo_10)"
   ]
  },
  {
   "cell_type": "code",
   "execution_count": 7,
   "id": "51a81332",
   "metadata": {},
   "outputs": [
    {
     "name": "stdout",
     "output_type": "stream",
     "text": [
      "Lista después de eliminar el booleano: ['Equipo', 10, 3.14, ['Shakira', 'Miranda'], 'Katty Perry']\n"
     ]
    }
   ],
   "source": [
    "# Eliminamos el valor booleano\n",
    "equipo_10.remove(True)\n",
    "print(\"Lista después de eliminar el booleano:\", equipo_10)"
   ]
  },
  {
   "cell_type": "code",
   "execution_count": 8,
   "id": "7e3efaf9",
   "metadata": {},
   "outputs": [],
   "source": [
    "# Pregunta 8. Definiendo una Tuple"
   ]
  },
  {
   "cell_type": "code",
   "execution_count": 9,
   "id": "01615213",
   "metadata": {},
   "outputs": [
    {
     "name": "stdout",
     "output_type": "stream",
     "text": [
      "('Perú', False, (5, 7.5, 2.14))\n"
     ]
    }
   ],
   "source": [
    "tuple_1 = (\"Perú\", False, (5,7.5, 2.14))\n",
    "print(tuple_1)"
   ]
  },
  {
   "cell_type": "code",
   "execution_count": 10,
   "id": "76945e82",
   "metadata": {},
   "outputs": [
    {
     "name": "stdout",
     "output_type": "stream",
     "text": [
      "\"Una tupla es inmutable por construcción de python, es decir, \n",
      "la tupla ya viene configurada por python para que, una vez creada una determinada tupla no se puedan modificar los datos, \n",
      "lo cual garantiza la seguridad, estabilidad, e integridad de los datos de la tupla, y así los datos no serán\n",
      "modificados, añadidos, o eliminados.\n"
     ]
    }
   ],
   "source": [
    "# Pregunta 8. Explicando por qué una Tuple es inmutable\n",
    "rpta_8 = \"\"\"\"Una tupla es inmutable por construcción de python, es decir, \n",
    "la tupla ya viene configurada por python para que, una vez creada una determinada tupla no se puedan modificar los datos, \n",
    "lo cual garantiza la seguridad, estabilidad, e integridad de los datos de la tupla, y así los datos no serán\n",
    "modificados, añadidos, o eliminados.\"\"\"\n",
    "print (rpta_8)\n"
   ]
  },
  {
   "cell_type": "code",
   "execution_count": 12,
   "id": "13cb58e3",
   "metadata": {},
   "outputs": [
    {
     "ename": "SyntaxError",
     "evalue": "expression cannot contain assignment, perhaps you meant \"==\"? (129615631.py, line 6)",
     "output_type": "error",
     "traceback": [
      "\u001b[1;36m  Cell \u001b[1;32mIn[12], line 6\u001b[1;36m\u001b[0m\n\u001b[1;33m    print(tuple_1[0]=100)\u001b[0m\n\u001b[1;37m          ^\u001b[0m\n\u001b[1;31mSyntaxError\u001b[0m\u001b[1;31m:\u001b[0m expression cannot contain assignment, perhaps you meant \"==\"?\n"
     ]
    }
   ],
   "source": [
    "# Pregunta 8 : intentando modificar los elementos de la tuple para corroborar que no se puede:\n",
    "print(tuple_1)\n",
    "tuple_1[0]=100\n",
    "tuple_1[1]=\"Argentina\"\n",
    "\n",
    "print(tuple_1[0]=100)"
   ]
  },
  {
   "cell_type": "code",
   "execution_count": 13,
   "id": "ae27deb6",
   "metadata": {},
   "outputs": [],
   "source": [
    "# Pregunta 9: funcion movie_summary"
   ]
  },
  {
   "cell_type": "code",
   "execution_count": 14,
   "id": "81103509",
   "metadata": {},
   "outputs": [
    {
     "name": "stderr",
     "output_type": "stream",
     "text": [
      "C:\\Users\\Lenovo\\AppData\\Roaming\\Python\\Python311\\site-packages\\pandas\\core\\arrays\\masked.py:60: UserWarning: Pandas requires version '1.3.6' or newer of 'bottleneck' (version '1.3.5' currently installed).\n",
      "  from pandas.core import (\n"
     ]
    }
   ],
   "source": [
    "import pandas as pd\n",
    "import numpy as np"
   ]
  },
  {
   "cell_type": "code",
   "execution_count": null,
   "id": "53eab46f",
   "metadata": {},
   "outputs": [],
   "source": [
    "movies = {\n",
    "  \"Inception\": {\"year\": 2010, \"genre\": \"Sci-Fi\"},\n",
    "  \"Parasite\": {\"year\": 2019, \"genre\": \"Drama\"},\n",
    "  \"Whiplash\": {\"year\": 2014, \"genre\": \"Drama\"}\n",
    "}"
   ]
  },
  {
   "cell_type": "code",
   "execution_count": null,
   "id": "fcab5b3d",
   "metadata": {},
   "outputs": [],
   "source": [
    "def movie_summary(movies):\n",
    "    return [f\"The movie {name} belongs to the {info['genre']} genre and was released in {info['year']}.\"\n",
    "            for name, info in movies.items()]\n",
    "\n",
    "print(movie_summary(movies))"
   ]
  },
  {
   "cell_type": "code",
   "execution_count": null,
   "id": "8ddcaec0",
   "metadata": {},
   "outputs": [],
   "source": [
    "# Pregunta 10"
   ]
  },
  {
   "cell_type": "code",
   "execution_count": null,
   "id": "c0251ea0",
   "metadata": {},
   "outputs": [],
   "source": []
  },
  {
   "cell_type": "code",
   "execution_count": null,
   "id": "7939acc7",
   "metadata": {},
   "outputs": [],
   "source": []
  },
  {
   "cell_type": "code",
   "execution_count": null,
   "id": "b8e2cb84",
   "metadata": {},
   "outputs": [],
   "source": [
    "# Part 3 (Hecho por Georgina) – Pandas Series"
   ]
  },
  {
   "cell_type": "code",
   "execution_count": null,
   "id": "20f06bb5",
   "metadata": {},
   "outputs": [],
   "source": [
    "# Pregunta 11"
   ]
  },
  {
   "cell_type": "markdown",
   "id": "159b4107",
   "metadata": {},
   "source": [
    "From the list of grades [15, 17, 20, 11, 13, 18, 19], create a Pandas Series assigning student names as the index (for example: \"Ana\", \"Jorge\", \"Valeria\", etc.).\n",
    "A partir de la lista de calificaciones [15, 17, 20, 11, 13, 18, 19], crea una Serie de Pandas asignando nombres de estudiantes como índice (por ejemplo: \"Ana\", \"Jorge\", \"Valeria\", etc.)."
   ]
  },
  {
   "cell_type": "code",
   "execution_count": null,
   "id": "03430c8d",
   "metadata": {},
   "outputs": [],
   "source": [
    "import pandas as pd"
   ]
  },
  {
   "cell_type": "code",
   "execution_count": null,
   "id": "e189f4e6",
   "metadata": {},
   "outputs": [],
   "source": [
    "calificaciones = [15, 17, 20, 11, 13, 18, 19]\n",
    "nombres = [\"Ana\", \"Jorge\", \"Valeria\", \"Mathias\",\"Nancy\",\"Anthony\",\"Rosa\"]\n",
    "alum_calf = pd.Series(calificaciones, index = nombres)\n",
    "print(alum_calf)"
   ]
  },
  {
   "cell_type": "code",
   "execution_count": null,
   "id": "9d20edb8",
   "metadata": {},
   "outputs": [],
   "source": [
    "print(alum_calf.index)"
   ]
  },
  {
   "cell_type": "code",
   "execution_count": null,
   "id": "cce05644",
   "metadata": {},
   "outputs": [],
   "source": [
    "# Pregunta 12"
   ]
  },
  {
   "cell_type": "markdown",
   "id": "aba4b6fd",
   "metadata": {},
   "source": [
    "Using the Series created in the previous step, calculate:\n",
    "\n",
    "The average of the grades.\n",
    "The student with the highest grade (use .idxmax()).\n",
    "The student with the lowest grade (use .idxmin()).\n",
    "Usando la Serie creada en el paso anterior, calcula:\n",
    "El promedio de las calificaciones.\n",
    "El estudiante con la calificación más alta (usa .idxmax()).\n",
    "El estudiante con la calificación más baja (usa .idxmin())."
   ]
  },
  {
   "cell_type": "code",
   "execution_count": null,
   "id": "3dfa1753",
   "metadata": {},
   "outputs": [],
   "source": [
    "promedio = alum_calf.mean()\n",
    "promedio"
   ]
  },
  {
   "cell_type": "code",
   "execution_count": null,
   "id": "58a0494a",
   "metadata": {},
   "outputs": [],
   "source": [
    "Alumno = alum_calf.idxmax()\n",
    "Alumno"
   ]
  },
  {
   "cell_type": "code",
   "execution_count": null,
   "id": "d50e2dd4",
   "metadata": {},
   "outputs": [],
   "source": [
    "Max = alum_calf.max()\n",
    "Max"
   ]
  },
  {
   "cell_type": "code",
   "execution_count": null,
   "id": "e1cf31e8",
   "metadata": {},
   "outputs": [],
   "source": [
    "Alumno2 = alum_calf.idxmin()\n",
    "Alumno2"
   ]
  },
  {
   "cell_type": "code",
   "execution_count": null,
   "id": "50e76027",
   "metadata": {},
   "outputs": [],
   "source": [
    "Min = alum_calf.min()\n",
    "Min"
   ]
  },
  {
   "cell_type": "code",
   "execution_count": null,
   "id": "69ce16db",
   "metadata": {},
   "outputs": [],
   "source": [
    "# Pregunta 13"
   ]
  },
  {
   "cell_type": "markdown",
   "id": "2e36e1f2",
   "metadata": {},
   "source": [
    "Create a Series from a dictionary of countries and their capitals. Filter and display only those countries whose capital has more than 6 letters. Crea una serie a partir de un diccionario de países y sus capitales. Filtra y muestra solo aquellos países cuya capital tiene más de 6 letras."
   ]
  },
  {
   "cell_type": "code",
   "execution_count": null,
   "id": "5461619e",
   "metadata": {},
   "outputs": [],
   "source": [
    "Paises_capitales = {\n",
    "    \"Perú\":\"Lima\", \n",
    "    \"Argentina\": \"Buenos Aires\", \n",
    "    \"Colombia\": \"Bogota\", \n",
    "    \"Mexico\":\"Ciudad de Mexico\", \n",
    "    \"España\": \"Madrid\", \n",
    "    \"Chile\": \"Santiago de C\"\n",
    "}\n",
    "PaisesyCapitales = pd.Series(Paises_capitales)\n",
    "PaisesyCapitales"
   ]
  },
  {
   "cell_type": "code",
   "execution_count": null,
   "id": "195becaa",
   "metadata": {},
   "outputs": [],
   "source": [
    "filtro_capitales = PaisesyCapitales[PaisesyCapitales.str.len()>6]\n",
    "filtro_capitales"
   ]
  },
  {
   "cell_type": "code",
   "execution_count": null,
   "id": "64880c15",
   "metadata": {},
   "outputs": [],
   "source": [
    "# Para países con mas de 6 letras que son INDEX\n",
    "filtro_paises = PaisesyCapitales[PaisesyCapitales.index.str.len() > 6]\n",
    "filtro_paises"
   ]
  },
  {
   "cell_type": "code",
   "execution_count": null,
   "id": "94e5cc75",
   "metadata": {},
   "outputs": [],
   "source": [
    "# Pregunta 14"
   ]
  },
  {
   "cell_type": "markdown",
   "id": "c580f64a",
   "metadata": {},
   "source": [
    "Create a Series containing several strings and convert all its elements to uppercase using the .apply(str.upper) method. Crea una Serie que contenga varias cadenas y convierte todos sus elementos a mayúsculas utilizando el método .apply(str.upper)."
   ]
  },
  {
   "cell_type": "code",
   "execution_count": null,
   "id": "f0ffa340",
   "metadata": {},
   "outputs": [],
   "source": [
    "Departamentos = pd.Series([\"Lima\", \"Arequipa\", \"Cusco\", \"San Martín\", \"Ucayali\"])\n",
    "Departamentos"
   ]
  },
  {
   "cell_type": "code",
   "execution_count": null,
   "id": "a3051980",
   "metadata": {},
   "outputs": [],
   "source": [
    "# Convertir todos los elementos a mayúsculas- .apply(str.upper)\n",
    "Departamentos_may = Departamentos.apply(str.upper)\n",
    "Departamentos_may"
   ]
  },
  {
   "cell_type": "code",
   "execution_count": null,
   "id": "949df78a",
   "metadata": {},
   "outputs": [],
   "source": []
  }
 ],
 "metadata": {
  "kernelspec": {
   "display_name": "Python 3 (ipykernel)",
   "language": "python",
   "name": "python3"
  },
  "language_info": {
   "codemirror_mode": {
    "name": "ipython",
    "version": 3
   },
   "file_extension": ".py",
   "mimetype": "text/x-python",
   "name": "python",
   "nbconvert_exporter": "python",
   "pygments_lexer": "ipython3",
   "version": "3.11.4"
  }
 },
 "nbformat": 4,
 "nbformat_minor": 5
}
