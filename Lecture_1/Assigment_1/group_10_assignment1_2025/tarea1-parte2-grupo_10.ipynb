{
 "cells": [
  {
   "cell_type": "markdown",
   "id": "a9e57f37",
   "metadata": {},
   "source": [
    "## TAREA 1\n"
   ]
  },
  {
   "cell_type": "code",
   "execution_count": null,
   "id": "14224884",
   "metadata": {},
   "outputs": [],
   "source": [
    "import pandas as pd\n",
    "import numpy as np"
   ]
  },
  {
   "cell_type": "code",
   "execution_count": null,
   "id": "7e3efaf9",
   "metadata": {},
   "outputs": [],
   "source": [
    "# comentario"
   ]
  },
  {
   "cell_type": "code",
   "execution_count": 2,
   "id": "76945e82",
   "metadata": {},
   "outputs": [],
   "source": [
    "# extra"
   ]
  },
  {
   "cell_type": "code",
   "execution_count": 3,
   "id": "69ce16db",
   "metadata": {},
   "outputs": [],
   "source": [
    "# prueba"
   ]
  },
  {
   "cell_type": "code",
   "execution_count": null,
   "id": "45269ec2",
   "metadata": {},
   "outputs": [],
   "source": [
    "# Rossy"
   ]
  }
 ],
 "metadata": {
  "kernelspec": {
   "display_name": "Python 3 (ipykernel)",
   "language": "python",
   "name": "python3"
  },
  "language_info": {
   "codemirror_mode": {
    "name": "ipython",
    "version": 3
   },
   "file_extension": ".py",
   "mimetype": "text/x-python",
   "name": "python",
   "nbconvert_exporter": "python",
   "pygments_lexer": "ipython3",
   "version": "3.11.4"
  }
 },
 "nbformat": 4,
 "nbformat_minor": 5
}
