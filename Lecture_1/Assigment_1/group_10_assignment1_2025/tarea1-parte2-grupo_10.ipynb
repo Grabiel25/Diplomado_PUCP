{
 "cells": [
  {
   "cell_type": "markdown",
   "id": "a9e57f37",
   "metadata": {},
   "source": [
    "## TAREA 1 - Parte 2\n"
   ]
  },
  {
   "cell_type": "code",
   "execution_count": 20,
   "id": "7c4ba648",
   "metadata": {},
   "outputs": [],
   "source": [
    "# 6. Declaramos una variable de cada tipo:\n",
    "entero = 10            #int\n",
    "decimal = 3.14         #float\n",
    "texto = \"Buenos días\"  #string\n",
    "booleano = True        #booleano"
   ]
  },
  {
   "cell_type": "code",
   "execution_count": 21,
   "id": "f2ad5c23",
   "metadata": {},
   "outputs": [
    {
     "name": "stdout",
     "output_type": "stream",
     "text": [
      "<class 'int'>\n",
      "<class 'float'>\n",
      "<class 'str'>\n",
      "<class 'bool'>\n"
     ]
    }
   ],
   "source": [
    "# Mostramos las variables\n",
    "print(type(entero))   \n",
    "print(type(decimal))  \n",
    "print(type(texto))   \n",
    "print(type(booleano)) "
   ]
  },
  {
   "cell_type": "code",
   "execution_count": 22,
   "id": "8dc8f70e",
   "metadata": {},
   "outputs": [],
   "source": [
    "# 7. Creamos una lista:\n",
    "equipo_10 = [\n",
    "    \"Equipo\",                # string\n",
    "    True,                    # booleano\n",
    "    10,                      # número entero\n",
    "    3.14,                    # número decimal\n",
    "    [\"Shakira\", \"Miranda\"]     # lista con dos strings\n",
    "]"
   ]
  },
  {
   "cell_type": "code",
   "execution_count": 23,
   "id": "edd0c75a",
   "metadata": {},
   "outputs": [
    {
     "name": "stdout",
     "output_type": "stream",
     "text": [
      "Primer elemento: Equipo\n"
     ]
    }
   ],
   "source": [
    "# Accedemos al primer elemento:\n",
    "print(\"Primer elemento:\", equipo_10[0])"
   ]
  },
  {
   "cell_type": "code",
   "execution_count": 24,
   "id": "06757703",
   "metadata": {},
   "outputs": [
    {
     "name": "stdout",
     "output_type": "stream",
     "text": [
      "Último elemento: ['Shakira', 'Miranda']\n"
     ]
    }
   ],
   "source": [
    "# Accedemos al último elemento\n",
    "print(\"Último elemento:\", equipo_10[-1])"
   ]
  },
  {
   "cell_type": "code",
   "execution_count": 25,
   "id": "db0cec32",
   "metadata": {},
   "outputs": [
    {
     "name": "stdout",
     "output_type": "stream",
     "text": [
      "Lista después de agregar un string: ['Equipo', True, 10, 3.14, ['Shakira', 'Miranda'], 'Katty Perry']\n"
     ]
    }
   ],
   "source": [
    "# Agregamos un nuevo string\n",
    "equipo_10.append(\"Katty Perry\")\n",
    "print(\"Lista después de agregar un string:\", equipo_10)"
   ]
  },
  {
   "cell_type": "code",
   "execution_count": 26,
   "id": "51a81332",
   "metadata": {},
   "outputs": [
    {
     "name": "stdout",
     "output_type": "stream",
     "text": [
      "Lista después de eliminar el booleano: ['Equipo', 10, 3.14, ['Shakira', 'Miranda'], 'Katty Perry']\n"
     ]
    }
   ],
   "source": [
    "# Eliminamos el valor booleano\n",
    "equipo_10.remove(True)\n",
    "print(\"Lista después de eliminar el booleano:\", equipo_10)"
   ]
  },
  {
   "cell_type": "code",
   "execution_count": null,
   "id": "7e3efaf9",
   "metadata": {},
   "outputs": [],
   "source": [
    "# 8. Tuple"
   ]
  },
  {
   "cell_type": "code",
   "execution_count": 7,
   "id": "01615213",
   "metadata": {},
   "outputs": [
    {
     "name": "stdout",
     "output_type": "stream",
     "text": [
      "('Perú', False, (5, 7.5, 2.14))\n"
     ]
    }
   ],
   "source": [
    "tuple_1 = (\"Perú\", False, (5,7.5, 2.14))\n",
    "print(tuple_1)"
   ]
  },
  {
   "cell_type": "code",
   "execution_count": 14,
   "id": "76945e82",
   "metadata": {},
   "outputs": [
    {
     "name": "stdout",
     "output_type": "stream",
     "text": [
      "\"Una tupla es inmutable por construcción, es decir, \n",
      "la tupla ya viene configurada para que,n una vez creada una determinada tupla no se puedan modificar los datos, \n",
      "lo cual garantiza la seguridad y estabilidad, integridad de los datos de la tupla, y así los datos no serán\n",
      "modificados, añadidos, o eliminados.\n"
     ]
    }
   ],
   "source": [
    "# Explicación\n",
    "rpta_8 = \"\"\"\"Una tupla es inmutable por construcción de python, es decir, \n",
    "la tupla ya viene configurada por python para que, una vez creada una determinada tupla no se puedan modificar los datos, \n",
    "lo cual garantiza la seguridad, estabilidad, e integridad de los datos de la tupla, y así los datos no serán\n",
    "modificados, añadidos, o eliminados.\"\"\"\n",
    "print (rpta_8)\n"
   ]
  },
  {
   "cell_type": "code",
   "execution_count": 18,
   "id": "df86cdb6",
   "metadata": {},
   "outputs": [
    {
     "name": "stdout",
     "output_type": "stream",
     "text": [
      "('Perú', False, (5, 7.5, 2.14))\n"
     ]
    },
    {
     "ename": "TypeError",
     "evalue": "'tuple' object does not support item assignment",
     "output_type": "error",
     "traceback": [
      "\u001b[1;31m---------------------------------------------------------------------------\u001b[0m",
      "\u001b[1;31mTypeError\u001b[0m                                 Traceback (most recent call last)",
      "Cell \u001b[1;32mIn[18], line 3\u001b[0m\n\u001b[0;32m      1\u001b[0m \u001b[38;5;66;03m# haciendo la prueba: \u001b[39;00m\n\u001b[0;32m      2\u001b[0m \u001b[38;5;28mprint\u001b[39m(tuple_1)\n\u001b[1;32m----> 3\u001b[0m tuple_1[\u001b[38;5;241m0\u001b[39m]\u001b[38;5;241m=\u001b[39m\u001b[38;5;241m100\u001b[39m\n",
      "\u001b[1;31mTypeError\u001b[0m: 'tuple' object does not support item assignment"
     ]
    }
   ],
   "source": [
    "# intentando modificar los elementos \n",
    "print(tuple_1)\n",
    "tuple_1[0]=100\n",
    "tuple_1[1]=\"Argentina\"\n",
    "\n",
    "print(tuple_1[0]=100)"
   ]
  },
  {
   "cell_type": "code",
   "execution_count": 32,
   "id": "6fb66af0",
   "metadata": {},
   "outputs": [],
   "source": [
    "movies = {\n",
    "  \"Inception\": {\"year\": 2010, \"genre\": \"Sci-Fi\"},\n",
    "  \"Parasite\": {\"year\": 2019, \"genre\": \"Drama\"},\n",
    "  \"Whiplash\": {\"year\": 2014, \"genre\": \"Drama\"}\n",
    "}"
   ]
  },
  {
   "cell_type": "code",
   "execution_count": 33,
   "id": "0364bdec",
   "metadata": {},
   "outputs": [
    {
     "data": {
      "text/plain": [
       "{'Inception': {'year': 2010, 'genre': 'Sci-Fi'},\n",
       " 'Parasite': {'year': 2019, 'genre': 'Drama'},\n",
       " 'Whiplash': {'year': 2014, 'genre': 'Drama'}}"
      ]
     },
     "execution_count": 33,
     "metadata": {},
     "output_type": "execute_result"
    }
   ],
   "source": [
    "movies"
   ]
  },
  {
   "cell_type": "code",
   "execution_count": null,
   "id": "244c490a",
   "metadata": {},
   "outputs": [],
   "source": []
  },
  {
   "cell_type": "code",
   "execution_count": 31,
   "id": "7ba997f9",
   "metadata": {},
   "outputs": [
    {
     "name": "stdout",
     "output_type": "stream",
     "text": [
      "¡Hola, bienvenido a Python!\n"
     ]
    }
   ],
   "source": [
    "def movie_summary():\n",
    "    print(\"La película \")"
   ]
  },
  {
   "cell_type": "code",
   "execution_count": null,
   "id": "257589bf",
   "metadata": {},
   "outputs": [],
   "source": []
  },
  {
   "cell_type": "code",
   "execution_count": null,
   "id": "948c8acc",
   "metadata": {},
   "outputs": [],
   "source": []
  },
  {
   "cell_type": "code",
   "execution_count": null,
   "id": "b721430b",
   "metadata": {},
   "outputs": [],
   "source": []
  },
  {
   "cell_type": "code",
   "execution_count": null,
   "id": "5ecd2d12",
   "metadata": {},
   "outputs": [],
   "source": []
  },
  {
   "cell_type": "markdown",
   "id": "b07690db",
   "metadata": {},
   "source": []
  },
  {
   "cell_type": "code",
   "execution_count": 3,
   "id": "69ce16db",
   "metadata": {},
   "outputs": [],
   "source": [
    "# prueba, Rossy, hola"
   ]
  },
  {
   "cell_type": "code",
   "execution_count": 1,
   "id": "45269ec2",
   "metadata": {},
   "outputs": [],
   "source": []
  },
  {
   "cell_type": "code",
   "execution_count": null,
   "id": "5461619e",
   "metadata": {},
   "outputs": [],
   "source": []
  }
 ],
 "metadata": {
  "kernelspec": {
   "display_name": "Python 3 (ipykernel)",
   "language": "python",
   "name": "python3"
  },
  "language_info": {
   "codemirror_mode": {
    "name": "ipython",
    "version": 3
   },
   "file_extension": ".py",
   "mimetype": "text/x-python",
   "name": "python",
   "nbconvert_exporter": "python",
   "pygments_lexer": "ipython3",
   "version": "3.11.4"
  }
 },
 "nbformat": 4,
 "nbformat_minor": 5
}
