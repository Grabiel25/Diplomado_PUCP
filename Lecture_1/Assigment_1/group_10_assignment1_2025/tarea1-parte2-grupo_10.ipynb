{
 "cells": [
  {
   "cell_type": "markdown",
   "id": "a9e57f37",
   "metadata": {},
   "source": [
    "## TAREA 1\n"
   ]
  },
  {
   "cell_type": "code",
   "execution_count": 3,
   "id": "e16bb75f",
   "metadata": {},
   "outputs": [],
   "source": [
    "## Parte 2"
   ]
  },
  {
   "cell_type": "code",
   "execution_count": 4,
   "id": "e29e81fd",
   "metadata": {},
   "outputs": [],
   "source": [
    "# Declaramos una variable de cada tipo:\n",
    "entero = 10            #int\n",
    "decimal = 3.14         #float\n",
    "texto = \"Buenos días\"  #string\n",
    "booleano = True        #booleano"
   ]
  },
  {
   "cell_type": "code",
   "execution_count": 5,
   "id": "7c2f6712",
   "metadata": {},
   "outputs": [
    {
     "name": "stdout",
     "output_type": "stream",
     "text": [
      "<class 'int'>\n",
      "<class 'float'>\n",
      "<class 'str'>\n",
      "<class 'bool'>\n"
     ]
    }
   ],
   "source": [
    "# Mostramos las variables\n",
    "print(type(entero))   \n",
    "print(type(decimal))  \n",
    "print(type(texto))   \n",
    "print(type(booleano)) "
   ]
  },
  {
   "cell_type": "code",
   "execution_count": null,
   "id": "4df7219e",
   "metadata": {},
   "outputs": [],
   "source": []
  },
  {
   "cell_type": "code",
   "execution_count": null,
   "id": "7e3efaf9",
   "metadata": {},
   "outputs": [],
   "source": [
    "# comentario"
   ]
  },
  {
   "cell_type": "code",
   "execution_count": 2,
   "id": "76945e82",
   "metadata": {},
   "outputs": [],
   "source": [
    "# extra"
   ]
  },
  {
   "cell_type": "code",
   "execution_count": 2,
   "id": "14224884",
   "metadata": {},
   "outputs": [],
   "source": [
    "import pandas as pd\n",
    "import numpy as np"
   ]
  },
  {
   "cell_type": "code",
   "execution_count": 3,
   "id": "69ce16db",
   "metadata": {},
   "outputs": [],
   "source": [
    "# prueba"
   ]
  },
  {
   "cell_type": "code",
   "execution_count": 1,
   "id": "45269ec2",
   "metadata": {},
   "outputs": [],
   "source": [
    "# Rossy"
   ]
  },
  {
   "cell_type": "code",
   "execution_count": null,
   "id": "220ec943",
   "metadata": {},
   "outputs": [],
   "source": [
    "# Hola"
   ]
  }
 ],
 "metadata": {
  "kernelspec": {
   "display_name": "Python 3 (ipykernel)",
   "language": "python",
   "name": "python3"
  },
  "language_info": {
   "codemirror_mode": {
    "name": "ipython",
    "version": 3
   },
   "file_extension": ".py",
   "mimetype": "text/x-python",
   "name": "python",
   "nbconvert_exporter": "python",
   "pygments_lexer": "ipython3",
   "version": "3.11.5"
  }
 },
 "nbformat": 4,
 "nbformat_minor": 5
}
