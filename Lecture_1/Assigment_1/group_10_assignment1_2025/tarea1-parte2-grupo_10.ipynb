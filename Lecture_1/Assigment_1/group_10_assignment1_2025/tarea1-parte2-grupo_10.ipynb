{
 "cells": [
  {
   "cell_type": "markdown",
   "id": "a9e57f37",
   "metadata": {},
   "source": [
    "## TAREA 1 - Parte 2\n"
   ]
  },
  {
   "cell_type": "code",
   "execution_count": 20,
   "id": "7c4ba648",
   "metadata": {},
   "outputs": [],
   "source": [
    "# 6. Declaramos una variable de cada tipo:\n",
    "entero = 10            #int\n",
    "decimal = 3.14         #float\n",
    "texto = \"Buenos días\"  #string\n",
    "booleano = True        #booleano"
   ]
  },
  {
   "cell_type": "code",
   "execution_count": 21,
   "id": "f2ad5c23",
   "metadata": {},
   "outputs": [
    {
     "name": "stdout",
     "output_type": "stream",
     "text": [
      "<class 'int'>\n",
      "<class 'float'>\n",
      "<class 'str'>\n",
      "<class 'bool'>\n"
     ]
    }
   ],
   "source": [
    "# Mostramos las variables\n",
    "print(type(entero))   \n",
    "print(type(decimal))  \n",
    "print(type(texto))   \n",
    "print(type(booleano)) "
   ]
  },
  {
   "cell_type": "code",
   "execution_count": 22,
   "id": "8dc8f70e",
   "metadata": {},
   "outputs": [],
   "source": [
    "# 7. Creamos una lista:\n",
    "equipo_10 = [\n",
    "    \"Equipo\",                # string\n",
    "    True,                    # booleano\n",
    "    10,                      # número entero\n",
    "    3.14,                    # número decimal\n",
    "    [\"Shakira\", \"Miranda\"]     # lista con dos strings\n",
    "]"
   ]
  },
  {
   "cell_type": "code",
   "execution_count": 23,
   "id": "edd0c75a",
   "metadata": {},
   "outputs": [
    {
     "name": "stdout",
     "output_type": "stream",
     "text": [
      "Primer elemento: Equipo\n"
     ]
    }
   ],
   "source": [
    "# Accedemos al primer elemento:\n",
    "print(\"Primer elemento:\", equipo_10[0])"
   ]
  },
  {
   "cell_type": "code",
   "execution_count": 24,
   "id": "06757703",
   "metadata": {},
   "outputs": [
    {
     "name": "stdout",
     "output_type": "stream",
     "text": [
      "Último elemento: ['Shakira', 'Miranda']\n"
     ]
    }
   ],
   "source": [
    "# Accedemos al último elemento\n",
    "print(\"Último elemento:\", equipo_10[-1])"
   ]
  },
  {
   "cell_type": "code",
   "execution_count": 25,
   "id": "db0cec32",
   "metadata": {},
   "outputs": [
    {
     "name": "stdout",
     "output_type": "stream",
     "text": [
      "Lista después de agregar un string: ['Equipo', True, 10, 3.14, ['Shakira', 'Miranda'], 'Katty Perry']\n"
     ]
    }
   ],
   "source": [
    "# Agregamos un nuevo string\n",
    "equipo_10.append(\"Katty Perry\")\n",
    "print(\"Lista después de agregar un string:\", equipo_10)"
   ]
  },
  {
   "cell_type": "code",
   "execution_count": 26,
   "id": "51a81332",
   "metadata": {},
   "outputs": [
    {
     "name": "stdout",
     "output_type": "stream",
     "text": [
      "Lista después de eliminar el booleano: ['Equipo', 10, 3.14, ['Shakira', 'Miranda'], 'Katty Perry']\n"
     ]
    }
   ],
   "source": [
    "# Eliminamos el valor booleano\n",
    "equipo_10.remove(True)\n",
    "print(\"Lista después de eliminar el booleano:\", equipo_10)"
   ]
  },
  {
   "cell_type": "code",
   "execution_count": null,
   "id": "7e3efaf9",
   "metadata": {},
   "outputs": [],
   "source": [
    "# comentario"
   ]
  },
  {
   "cell_type": "code",
   "execution_count": 2,
   "id": "76945e82",
   "metadata": {},
   "outputs": [],
   "source": [
    "# extra"
   ]
  },
  {
   "cell_type": "code",
   "execution_count": 2,
   "id": "14224884",
   "metadata": {},
   "outputs": [],
   "source": [
    "import pandas as pd\n",
    "import numpy as np"
   ]
  },
  {
   "cell_type": "code",
   "execution_count": 3,
   "id": "69ce16db",
   "metadata": {},
   "outputs": [],
   "source": [
    "# prueba"
   ]
  },
  {
   "cell_type": "code",
   "execution_count": 1,
   "id": "45269ec2",
   "metadata": {},
   "outputs": [],
   "source": [
    "# Rossy"
   ]
  },
  {
   "cell_type": "code",
   "execution_count": null,
   "id": "5461619e",
   "metadata": {},
   "outputs": [],
   "source": [
    "# Hola"
   ]
  }
 ],
 "metadata": {
  "kernelspec": {
   "display_name": "Python 3 (ipykernel)",
   "language": "python",
   "name": "python3"
  },
  "language_info": {
   "codemirror_mode": {
    "name": "ipython",
    "version": 3
   },
   "file_extension": ".py",
   "mimetype": "text/x-python",
   "name": "python",
   "nbconvert_exporter": "python",
   "pygments_lexer": "ipython3",
   "version": "3.11.5"
  }
 },
 "nbformat": 4,
 "nbformat_minor": 5
}
