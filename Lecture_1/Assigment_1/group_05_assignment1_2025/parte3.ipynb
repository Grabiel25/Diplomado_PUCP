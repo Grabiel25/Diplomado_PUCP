{
 "cells": [
  {
   "cell_type": "markdown",
   "id": "aca51d27-dcf1-4819-ac45-d9d581e9fa0c",
   "metadata": {},
   "source": [
    "## Part 3 – Pandas Series"
   ]
  },
  {
   "cell_type": "markdown",
   "id": "9f1e6d0a-b58d-4644-bfc6-228b7b0bb7f4",
   "metadata": {},
   "source": [
    "### Ejercicio 1: Crear una Serie de calificaciones\n",
    "A partir de la lista de notas `[15, 17, 20, 11, 13, 18, 19]`, se crea un índice con los nombres de los estudiantes."
   ]
  },
  {
   "cell_type": "code",
   "execution_count": 13,
   "id": "131f43d2-da53-4233-88a5-913252f43cec",
   "metadata": {},
   "outputs": [],
   "source": [
    "import pandas as pd"
   ]
  },
  {
   "cell_type": "code",
   "execution_count": 43,
   "id": "b9150944-c861-4960-b863-d6947ed9055c",
   "metadata": {},
   "outputs": [
    {
     "name": "stdout",
     "output_type": "stream",
     "text": [
      "Aluumnos y notas:\n",
      " Estefania    15\n",
      "Antonella    17\n",
      "Viviana      20\n",
      "Henry        11\n",
      "Angel        13\n",
      "Lucía        18\n",
      "Katherin     19\n",
      "dtype: int64\n"
     ]
    }
   ],
   "source": [
    "grades = [15, 17, 20, 11, 13, 18, 19]\n",
    "students = [\"Estefania\", \"Antonella\", \"Viviana\", \"Henry\", \"Angel\", \"Lucía\", \"Katherin\"]\n",
    "grades_series = pd.Series(grades, index=students)\n",
    "print(\"Aluumnos y notas:\\n\", grades_series)"
   ]
  },
  {
   "cell_type": "markdown",
   "id": "12dd2005-e648-4a15-b1c0-964a7696f80c",
   "metadata": {},
   "source": [
    "### Ejercicio 2: Calcular el promedio\n",
    "Se calcula el **promedio de notas** usando `.mean()`."
   ]
  },
  {
   "cell_type": "code",
   "execution_count": 44,
   "id": "4b771603-a61c-4ddf-963f-5c20386d7431",
   "metadata": {},
   "outputs": [
    {
     "name": "stdout",
     "output_type": "stream",
     "text": [
      "promedio de notas:\n",
      " 16.142857142857142\n"
     ]
    }
   ],
   "source": [
    "grades_series.mean()\n",
    "print(\"promedio de notas:\\n\", grades_series.mean())"
   ]
  },
  {
   "cell_type": "markdown",
   "id": "038a4fd1-8b2f-4908-951f-80fe9ffa8418",
   "metadata": {},
   "source": [
    "### Ejercicio 3: Estudiante con la nota más alta y más baja\n",
    "Se utilizan los métodos `.idxmax()` y `.idxmin()` para identificar al estudiante con la **nota más alta** y la **nota más baja**.\n"
   ]
  },
  {
   "cell_type": "code",
   "execution_count": 23,
   "id": "8b3dbe11-ed48-410c-9cf1-33909c69175c",
   "metadata": {},
   "outputs": [
    {
     "name": "stdout",
     "output_type": "stream",
     "text": [
      "Nota más alta: Viviana\n",
      "Nota más baja: Henry\n"
     ]
    }
   ],
   "source": [
    "print(\"Nota más alta:\", grades_series.idxmax())\n",
    "print(\"Nota más baja:\", grades_series.idxmin())"
   ]
  },
  {
   "cell_type": "markdown",
   "id": "1d7fdb4b-059d-4cd8-9e6c-7307227907c8",
   "metadata": {},
   "source": [
    "### Ejercicio 4: Serie de países y capitales\n",
    "Se construye una **Serie** a partir de un diccionario con países y sus capitales.\n",
    "Luego, se filtran aquellas capitales con más de **6 letras**.\n"
   ]
  },
  {
   "cell_type": "code",
   "execution_count": 25,
   "id": "f931e6d1-2246-44ca-b4db-1e83307c06e9",
   "metadata": {},
   "outputs": [],
   "source": [
    "countries_capitals = {\"Peru\": \"Lima\",\"Argentina\": \"Buenos Aires\", \"Chile\": \"Santiago\", \"Colombia\": \"Bogotá\", \"Mexico\": \"Ciudad de México\"}"
   ]
  },
  {
   "cell_type": "code",
   "execution_count": 26,
   "id": "00d30273-3648-430e-a992-36c3ea9d1ca5",
   "metadata": {},
   "outputs": [
    {
     "name": "stdout",
     "output_type": "stream",
     "text": [
      "Países y capitales:\n",
      " Peru                     Lima\n",
      "Argentina        Buenos Aires\n",
      "Chile                Santiago\n",
      "Colombia               Bogotá\n",
      "Mexico       Ciudad de México\n",
      "dtype: object \n",
      "\n"
     ]
    }
   ],
   "source": [
    "capitals_series = pd.Series(countries_capitals)\n",
    "print(\"Países y capitales:\\n\", capitals_series, \"\\n\")\n",
    "\n"
   ]
  },
  {
   "cell_type": "code",
   "execution_count": 27,
   "id": "a608c8be-bf0e-4c94-ac14-9df50523c825",
   "metadata": {},
   "outputs": [
    {
     "name": "stdout",
     "output_type": "stream",
     "text": [
      "Capitales con más de 6 letras:\n",
      " Argentina        Buenos Aires\n",
      "Chile                Santiago\n",
      "Mexico       Ciudad de México\n",
      "dtype: object\n"
     ]
    }
   ],
   "source": [
    "filtered_capitals = capitals_series[capitals_series.str.len() > 6]\n",
    "print(\"Capitales con más de 6 letras:\\n\", filtered_capitals)"
   ]
  },
  {
   "cell_type": "markdown",
   "id": "0b4c6276-6f31-4d16-8cb0-4203da0568b3",
   "metadata": {},
   "source": [
    "### Ejercicio 5: Convertir strings a mayúsculas\n",
    "Se crea una **Serie** con varias cadenas de texto y se convierten todas a **mayúsculas** usando `.apply(str.upper)`.\n"
   ]
  },
  {
   "cell_type": "code",
   "execution_count": 40,
   "id": "e7b0d9a4-7a57-4d75-b301-4b43a2993029",
   "metadata": {},
   "outputs": [
    {
     "name": "stdout",
     "output_type": "stream",
     "text": [
      "strings_series:\n",
      " 0      teclado\n",
      "1        mouse\n",
      "2       laptop\n",
      "3    impresora\n",
      "dtype: object\n"
     ]
    }
   ],
   "source": [
    "strings_series = pd.Series([\"teclado\", \"mouse\", \"laptop\", \"impresora\"])\n",
    "print(\"strings_series:\\n\", strings_series)\n"
   ]
  },
  {
   "cell_type": "code",
   "execution_count": 41,
   "id": "a877d940-96c8-409a-a1a8-9af5e74253c3",
   "metadata": {},
   "outputs": [
    {
     "name": "stdout",
     "output_type": "stream",
     "text": [
      "uppercasestrings_series:\n",
      " 0      TECLADO\n",
      "1        MOUSE\n",
      "2       LAPTOP\n",
      "3    IMPRESORA\n",
      "dtype: object\n"
     ]
    }
   ],
   "source": [
    "uppercase_strings=strings_series.apply(str.upper)\n",
    "print(\"uppercasestrings_series:\\n\", uppercase_strings)"
   ]
  },
  {
   "cell_type": "code",
   "execution_count": null,
   "id": "2285f834-2c56-40c8-880d-b193df9b79e6",
   "metadata": {},
   "outputs": [],
   "source": []
  }
 ],
 "metadata": {
  "kernelspec": {
   "display_name": "Python [conda env:base] *",
   "language": "python",
   "name": "conda-base-py"
  },
  "language_info": {
   "codemirror_mode": {
    "name": "ipython",
    "version": 3
   },
   "file_extension": ".py",
   "mimetype": "text/x-python",
   "name": "python",
   "nbconvert_exporter": "python",
   "pygments_lexer": "ipython3",
   "version": "3.13.5"
  }
 },
 "nbformat": 4,
 "nbformat_minor": 5
}
