{
 "cells": [
  {
   "cell_type": "code",
   "execution_count": 42,
   "id": "de87a285-da0d-41d9-acb2-9569692c8dfe",
   "metadata": {},
   "outputs": [
    {
     "name": "stdout",
     "output_type": "stream",
     "text": [
      "The movie Grown Ups belongs to the Comedy genre and was released in 2010.\n",
      "The movie Click belongs to the Comedy genre and was released in 2006.\n",
      "The movie Just Go with It belongs to the Comedy genre and was released in 2011.\n"
     ]
    }
   ],
   "source": [
    "# Step 9 - Function movie_summary\n",
    "\n",
    "movies = {\n",
    "    \"Grown Ups\": {\"year\": 2010, \"genre\": \"Comedy\"},\n",
    "    \"Click\": {\"year\": 2006, \"genre\": \"Comedy\"},\n",
    "    \"Just Go with It\": {\"year\": 2011, \"genre\": \"Comedy\"}\n",
    "}\n",
    "\n",
    "def movie_summary(movies):\n",
    "    summary_list = [] \n",
    "    for title, info in movies.items():\n",
    "        sentence = f\"The movie {title} belongs to the {info['genre']} genre and was released in {info['year']}.\"\n",
    "        summary_list.append(sentence)\n",
    "    return summary_list\n",
    "\n",
    "result = movie_summary(movies)\n",
    "\n",
    "for r in result:\n",
    "    print(r)"
   ]
  },
  {
   "cell_type": "code",
   "execution_count": 49,
   "id": "06f0e345-37ff-41bb-983e-ef2632013c08",
   "metadata": {},
   "outputs": [
    {
     "name": "stdout",
     "output_type": "stream",
     "text": [
      "Requirement already satisfied: numpy in c:\\users\\usuario\\anaconda3\\lib\\site-packages (2.1.3)\n"
     ]
    }
   ],
   "source": [
    "# Step 10 - NumPy\n",
    "!pip install numpy"
   ]
  },
  {
   "cell_type": "code",
   "execution_count": 50,
   "id": "f777d45a-d002-4f4e-b915-c0cac7060836",
   "metadata": {},
   "outputs": [
    {
     "name": "stdout",
     "output_type": "stream",
     "text": [
      "2.3.2\n"
     ]
    }
   ],
   "source": [
    "import numpy as np\n",
    "print(np.__version__)"
   ]
  },
  {
   "cell_type": "code",
   "execution_count": 52,
   "id": "f946f186-8ce8-4729-a5be-2e6e6f8cf3c3",
   "metadata": {},
   "outputs": [
    {
     "name": "stdout",
     "output_type": "stream",
     "text": [
      "Matriz generada:\n",
      "[[30 60 34  7]\n",
      " [82 29 11 64]\n",
      " [ 4 76  1 42]\n",
      " [ 4 88 30 41]]\n",
      "\n",
      "Media por columna:\n",
      "[30.   63.25 19.   38.5 ]\n",
      "\n",
      "Suma de la diagonal principal:\n",
      "101\n"
     ]
    }
   ],
   "source": [
    "import numpy as np\n",
    "\n",
    "# Matriz 4x4 con enteros aleatorios entre 1 y 100\n",
    "matrix = np.random.randint(1, 101, size=(4, 4))\n",
    "print(\"Matriz generada:\")\n",
    "print(matrix)\n",
    "\n",
    "# Media por columna\n",
    "mean_per_column = np.mean(matrix, axis=0)\n",
    "print(\"\\nMedia por columna:\")\n",
    "print(mean_per_column)\n",
    "\n",
    "# Suma de la diagonal principal\n",
    "sum_diagonal = np.trace(matrix)\n",
    "print(\"\\nSuma de la diagonal principal:\")\n",
    "print(sum_diagonal)"
   ]
  }
 ],
 "metadata": {
  "kernelspec": {
   "display_name": "Python [conda env:base] *",
   "language": "python",
   "name": "conda-base-py"
  },
  "language_info": {
   "codemirror_mode": {
    "name": "ipython",
    "version": 3
   },
   "file_extension": ".py",
   "mimetype": "text/x-python",
   "name": "python",
   "nbconvert_exporter": "python",
   "pygments_lexer": "ipython3",
   "version": "3.13.5"
  }
 },
 "nbformat": 4,
 "nbformat_minor": 5
}
