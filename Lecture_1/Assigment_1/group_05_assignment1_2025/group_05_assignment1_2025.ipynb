{
 "cells": [
  {
   "cell_type": "markdown",
   "id": "e856eda1-3c06-44bb-9446-44b0821b4d58",
   "metadata": {},
   "source": [
    "1. Explain the difference between working on a branch and working directly on main. Why is it recommended to always use branches in collaborative projects? [1 pts]"
   ]
  },
  {
   "cell_type": "markdown",
   "id": "db51daf9-369d-435a-8e89-e0ad2729cec3",
   "metadata": {},
   "source": [
    "Trabajar en main significa modificar directamente la rama principal, mientras que en un branch los cambios se realizan en paralelo y pueden incorporarse posteriormente, previa revisión. En ese sentido, es recomendable usar un branch, ya que evita afectar al main y facilita el trabajo colaborativo."
   ]
  },
  {
   "cell_type": "markdown",
   "id": "a583ef5c-6c43-4fc2-97b9-23e7128b851e",
   "metadata": {},
   "source": [
    "6. Declare a variable for each of the following types: int, float, string, and boolean.\r\n",
    "Then print the type of each variable using the type() function."
   ]
  },
  {
   "cell_type": "code",
   "execution_count": 3,
   "id": "114e85c5-03cf-49b3-945c-b16677a2c7a3",
   "metadata": {},
   "outputs": [],
   "source": [
    "an_int = 30"
   ]
  },
  {
   "cell_type": "code",
   "execution_count": 9,
   "id": "14b6f1d4-45c0-4ba1-a74f-1310d5d90588",
   "metadata": {},
   "outputs": [],
   "source": [
    "a_float = 2.50"
   ]
  },
  {
   "cell_type": "code",
   "execution_count": 11,
   "id": "ce3f6929-241e-4b4a-a073-7b2ed99a7996",
   "metadata": {},
   "outputs": [],
   "source": [
    "a_string = \"improve\""
   ]
  },
  {
   "cell_type": "code",
   "execution_count": 13,
   "id": "dbd10fa6-c6da-4040-8ef4-1e426a481603",
   "metadata": {},
   "outputs": [],
   "source": [
    "a_bool = True"
   ]
  },
  {
   "cell_type": "code",
   "execution_count": 17,
   "id": "a637ac38-6b0a-4297-b2eb-abe4d8b99866",
   "metadata": {},
   "outputs": [
    {
     "name": "stdout",
     "output_type": "stream",
     "text": [
      "<class 'int'> <class 'float'> <class 'str'> <class 'bool'>\n"
     ]
    }
   ],
   "source": [
    "print(type(an_int), type(a_float), type(a_string), type(a_bool))"
   ]
  },
  {
   "cell_type": "raw",
   "id": "172a8f41-d1d7-4a44-b223-c4977219920c",
   "metadata": {},
   "source": [
    "7. Create a list with a string, a boolean, two numbers, and a sublist of two favorite artists; then access the first and last elements, add a string, and remove the boolean."
   ]
  },
  {
   "cell_type": "code",
   "execution_count": 49,
   "id": "e5514cb0-c817-4167-a939-b2a5ebe7650d",
   "metadata": {},
   "outputs": [],
   "source": [
    "list = [\"enero\", True, 30, 1.8, [\"Coldplay\", \"Adele\"]]"
   ]
  },
  {
   "cell_type": "markdown",
   "id": "dae6212c-cf48-4290-a52f-5d1bfd407a83",
   "metadata": {},
   "source": [
    "Access the first element:"
   ]
  },
  {
   "cell_type": "code",
   "execution_count": 23,
   "id": "a8136d29-92be-4ece-af82-c23a5cdc5758",
   "metadata": {},
   "outputs": [
    {
     "data": {
      "text/plain": [
       "'enero'"
      ]
     },
     "execution_count": 23,
     "metadata": {},
     "output_type": "execute_result"
    }
   ],
   "source": [
    "list[0]"
   ]
  },
  {
   "cell_type": "markdown",
   "id": "85862069-887e-4025-864f-84ba627f8e25",
   "metadata": {},
   "source": [
    "Access the last element:"
   ]
  },
  {
   "cell_type": "code",
   "execution_count": 51,
   "id": "66e50eee-70b6-43fc-9d9c-33b1a1797812",
   "metadata": {},
   "outputs": [
    {
     "data": {
      "text/plain": [
       "['Coldplay', 'Adele']"
      ]
     },
     "execution_count": 51,
     "metadata": {},
     "output_type": "execute_result"
    }
   ],
   "source": [
    "list[-1]"
   ]
  },
  {
   "cell_type": "markdown",
   "id": "762a1b62-f680-4489-afde-ad70281f8b3a",
   "metadata": {},
   "source": [
    "Add a new string:"
   ]
  },
  {
   "cell_type": "code",
   "execution_count": 53,
   "id": "96efd306-bcf1-43f5-a438-de4d16afde25",
   "metadata": {},
   "outputs": [
    {
     "data": {
      "text/plain": [
       "['enero', True, 30, 1.8, ['Coldplay', 'Adele'], 'diciembre']"
      ]
     },
     "execution_count": 53,
     "metadata": {},
     "output_type": "execute_result"
    }
   ],
   "source": [
    "list.append(\"diciembre\")\n",
    "list"
   ]
  },
  {
   "cell_type": "markdown",
   "id": "4eac2b9b-c614-4789-bd4e-46cc5d8567c3",
   "metadata": {},
   "source": [
    "Remove the boolean value:"
   ]
  },
  {
   "cell_type": "code",
   "execution_count": 31,
   "id": "96cf9064-97ae-4986-9b6a-ba58aff22dd6",
   "metadata": {},
   "outputs": [
    {
     "ename": "ValueError",
     "evalue": "list.remove(x): x not in list",
     "output_type": "error",
     "traceback": [
      "\u001b[1;31m---------------------------------------------------------------------------\u001b[0m",
      "\u001b[1;31mValueError\u001b[0m                                Traceback (most recent call last)",
      "Cell \u001b[1;32mIn[31], line 1\u001b[0m\n\u001b[1;32m----> 1\u001b[0m \u001b[38;5;28mlist\u001b[39m\u001b[38;5;241m.\u001b[39mremove(\u001b[38;5;28;01mTrue\u001b[39;00m)\n\u001b[0;32m      2\u001b[0m \u001b[38;5;28mlist\u001b[39m\n",
      "\u001b[1;31mValueError\u001b[0m: list.remove(x): x not in list"
     ]
    }
   ],
   "source": [
    "list.remove(True)"
   ]
  },
  {
   "cell_type": "code",
   "execution_count": 33,
   "id": "9620dce9-ff94-4f76-8617-403970df7b60",
   "metadata": {},
   "outputs": [
    {
     "data": {
      "text/plain": [
       "['enero', 30, 1.8, ['Coldplay', 'Michael Jackson'], 'diciembre', 'diciembre']"
      ]
     },
     "execution_count": 33,
     "metadata": {},
     "output_type": "execute_result"
    }
   ],
   "source": [
    "list"
   ]
  },
  {
   "cell_type": "markdown",
   "id": "8aa5f727-941e-489f-99a2-8215ae5d5cef",
   "metadata": {},
   "source": [
    "8. Define a tuple, explain its immutability, and provide a demonstration of this property."
   ]
  },
  {
   "cell_type": "code",
   "execution_count": 37,
   "id": "f6f52007-34e9-406f-a124-55a23d28b046",
   "metadata": {},
   "outputs": [],
   "source": [
    "new_tupla = (\"febrero\", True, 18, 20.0, 1.5)"
   ]
  },
  {
   "cell_type": "markdown",
   "id": "d0ce5796-9698-4252-9992-caefc6b71625",
   "metadata": {},
   "source": [
    "La tupla es inmutable porque, una vez creada, sus elementos no pueden modificarse, agregarse ni eliminarse. En caso de intentarlo, se generará un TypeError, indicando que la tupla no admite la asignación de elementos."
   ]
  },
  {
   "cell_type": "code",
   "execution_count": 2,
   "id": "0184131d-eb6b-437d-af69-cd899ebfb1b0",
   "metadata": {},
   "outputs": [
    {
     "ename": "NameError",
     "evalue": "name 'new_tupla' is not defined",
     "output_type": "error",
     "traceback": [
      "\u001b[1;31m---------------------------------------------------------------------------\u001b[0m",
      "\u001b[1;31mNameError\u001b[0m                                 Traceback (most recent call last)",
      "Cell \u001b[1;32mIn[2], line 2\u001b[0m\n\u001b[0;32m      1\u001b[0m \u001b[38;5;28;01mtry\u001b[39;00m:\n\u001b[1;32m----> 2\u001b[0m     new_tupla[\u001b[38;5;241m0\u001b[39m] \u001b[38;5;241m=\u001b[39m \u001b[38;5;124m\"\u001b[39m\u001b[38;5;124mmarzo\u001b[39m\u001b[38;5;124m\"\u001b[39m\n\u001b[0;32m      3\u001b[0m \u001b[38;5;28;01mexcept\u001b[39;00m \u001b[38;5;167;01mTypeError\u001b[39;00m \u001b[38;5;28;01mas\u001b[39;00m e:\n\u001b[0;32m      4\u001b[0m     \u001b[38;5;28mprint\u001b[39m(\u001b[38;5;124m\"\u001b[39m\u001b[38;5;124mError al intentar modificar la tupla:\u001b[39m\u001b[38;5;124m\"\u001b[39m, e)\n",
      "\u001b[1;31mNameError\u001b[0m: name 'new_tupla' is not defined"
     ]
    }
   ],
   "source": [
    "try:\n",
    "    new_tupla[0] = \"marzo\"\n",
    "except TypeError as e:\n",
    "    print(\"Error al intentar modificar la tupla:\", e)"
   ]
  },
  {
   "cell_type": "markdown",
   "id": "dfdda52b-4f62-4e24-897d-4c0e7ff285da",
   "metadata": {},
   "source": [
    "## Part 3 – Pandas Series"
   ]
  },
  {
   "cell_type": "markdown",
   "id": "83917af8-829e-4f82-9668-deb97d61ef68",
   "metadata": {},
   "source": [
    "### Ejercicio 1: Crear una Serie de calificaciones\n",
    "A partir de la lista de notas `[15, 17, 20, 11, 13, 18, 19]`, se crea un índice con los nombres de los estudiantes."
   ]
  },
  {
   "cell_type": "code",
   "execution_count": 4,
   "id": "dc233fee-242c-406e-8ba4-bf3c4ebe36e0",
   "metadata": {},
   "outputs": [],
   "source": [
    "import pandas as pd"
   ]
  },
  {
   "cell_type": "code",
   "execution_count": 5,
   "id": "d2e3f0c5-3736-4087-bdc7-01764280e464",
   "metadata": {},
   "outputs": [
    {
     "name": "stdout",
     "output_type": "stream",
     "text": [
      "Aluumnos y notas:\n",
      " Estefania    15\n",
      "Antonella    17\n",
      "Viviana      20\n",
      "Henry        11\n",
      "Angel        13\n",
      "Lucía        18\n",
      "Katherin     19\n",
      "dtype: int64\n"
     ]
    }
   ],
   "source": [
    "grades = [15, 17, 20, 11, 13, 18, 19]\n",
    "students = [\"Estefania\", \"Antonella\", \"Viviana\", \"Henry\", \"Angel\", \"Lucía\", \"Katherin\"]\n",
    "grades_series = pd.Series(grades, index=students)\n",
    "print(\"Aluumnos y notas:\\n\", grades_series)"
   ]
  },
  {
   "cell_type": "markdown",
   "id": "fcf16eed-a9bf-4e39-96d6-f8f3bec83693",
   "metadata": {},
   "source": [
    "### Ejercicio 2: Calcular el promedio\n",
    "Se calcula el **promedio de notas** usando `.mean()`."
   ]
  },
  {
   "cell_type": "code",
   "execution_count": 10,
   "id": "71a8138d-305f-46cc-bf84-b83c7607c43f",
   "metadata": {},
   "outputs": [
    {
     "name": "stdout",
     "output_type": "stream",
     "text": [
      "promedio de notas:\n",
      " 16.142857142857142\n"
     ]
    }
   ],
   "source": [
    "grades_series.mean()\n",
    "print(\"promedio de notas:\\n\", grades_series.mean())"
   ]
  },
  {
   "cell_type": "markdown",
   "id": "159349c2-31d2-4d2c-8769-88b3fbd2cd57",
   "metadata": {},
   "source": [
    "### Ejercicio 3: Estudiante con la nota más alta y más baja\n",
    "Se utilizan los métodos `.idxmax()` y `.idxmin()` para identificar al estudiante con la **nota más alta** y la **nota más baja**."
   ]
  },
  {
   "cell_type": "code",
   "execution_count": 11,
   "id": "db732aa2-d64b-41db-9e07-e2c1c04cb855",
   "metadata": {},
   "outputs": [
    {
     "name": "stdout",
     "output_type": "stream",
     "text": [
      "Nota más alta: Viviana\n",
      "Nota más baja: Henry\n"
     ]
    }
   ],
   "source": [
    "print(\"Nota más alta:\", grades_series.idxmax())\n",
    "print(\"Nota más baja:\", grades_series.idxmin())"
   ]
  },
  {
   "cell_type": "markdown",
   "id": "fe914de6-7292-4322-9dc0-2f21e26f3aae",
   "metadata": {},
   "source": [
    "### Ejercicio 4: Serie de países y capitales\n",
    "Se construye una **Serie** a partir de un diccionario con países y sus capitales.\n",
    "Luego, se filtran aquellas capitales con más de **6 letras**."
   ]
  },
  {
   "cell_type": "code",
   "execution_count": 13,
   "id": "379cb238-80a5-40c4-946b-3e1a6f649573",
   "metadata": {},
   "outputs": [
    {
     "name": "stdout",
     "output_type": "stream",
     "text": [
      "Países y capitales:\n",
      " Peru                     Lima\n",
      "Argentina        Buenos Aires\n",
      "Chile                Santiago\n",
      "Colombia               Bogotá\n",
      "Mexico       Ciudad de México\n",
      "dtype: object \n",
      "\n"
     ]
    }
   ],
   "source": [
    "countries_capitals = {\"Peru\": \"Lima\",\"Argentina\": \"Buenos Aires\", \"Chile\": \"Santiago\", \"Colombia\": \"Bogotá\", \"Mexico\": \"Ciudad de México\"}\n",
    "capitals_series = pd.Series(countries_capitals)\n",
    "print(\"Países y capitales:\\n\", capitals_series, \"\\n\")"
   ]
  },
  {
   "cell_type": "code",
   "execution_count": 14,
   "id": "1766ec73-8734-44bf-8e5e-7be81ea3c306",
   "metadata": {},
   "outputs": [
    {
     "name": "stdout",
     "output_type": "stream",
     "text": [
      "Capitales con más de 6 letras:\n",
      " Argentina        Buenos Aires\n",
      "Chile                Santiago\n",
      "Mexico       Ciudad de México\n",
      "dtype: object\n"
     ]
    }
   ],
   "source": [
    "filtered_capitals = capitals_series[capitals_series.str.len() > 6]\n",
    "print(\"Capitales con más de 6 letras:\\n\", filtered_capitals)"
   ]
  },
  {
   "cell_type": "markdown",
   "id": "0ff46e92-92de-4f6f-9325-4e8e0c5ee3d9",
   "metadata": {},
   "source": [
    "### Ejercicio 5: Convertir strings a mayúsculas\n",
    "Se crea una **Serie** con varias cadenas de texto y se convierten todas a **mayúsculas** usando `.apply(str.upper)`.\n"
   ]
  },
  {
   "cell_type": "code",
   "execution_count": 15,
   "id": "542625c3-8336-4679-85f1-e40a3b975d8c",
   "metadata": {},
   "outputs": [
    {
     "name": "stdout",
     "output_type": "stream",
     "text": [
      "strings_series:\n",
      " 0      teclado\n",
      "1        mouse\n",
      "2       laptop\n",
      "3    impresora\n",
      "dtype: object\n"
     ]
    }
   ],
   "source": [
    "strings_series = pd.Series([\"teclado\", \"mouse\", \"laptop\", \"impresora\"])\n",
    "print(\"strings_series:\\n\", strings_series)"
   ]
  },
  {
   "cell_type": "code",
   "execution_count": 16,
   "id": "37bacc2d-cecd-45c8-a6cc-bb1033811a1e",
   "metadata": {},
   "outputs": [
    {
     "name": "stdout",
     "output_type": "stream",
     "text": [
      "uppercasestrings_series:\n",
      " 0      TECLADO\n",
      "1        MOUSE\n",
      "2       LAPTOP\n",
      "3    IMPRESORA\n",
      "dtype: object\n"
     ]
    }
   ],
   "source": [
    "uppercase_strings=strings_series.apply(str.upper)\n",
    "print(\"uppercasestrings_series:\\n\", uppercase_strings)"
   ]
  }
 ],
 "metadata": {
  "kernelspec": {
   "display_name": "Python [conda env:base] *",
   "language": "python",
   "name": "conda-base-py"
  },
  "language_info": {
   "codemirror_mode": {
    "name": "ipython",
    "version": 3
   },
   "file_extension": ".py",
   "mimetype": "text/x-python",
   "name": "python",
   "nbconvert_exporter": "python",
   "pygments_lexer": "ipython3",
   "version": "3.13.5"
  }
 },
 "nbformat": 4,
 "nbformat_minor": 5
}
