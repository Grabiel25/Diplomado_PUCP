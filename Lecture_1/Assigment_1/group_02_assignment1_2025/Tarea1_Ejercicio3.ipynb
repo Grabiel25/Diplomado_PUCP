{
 "cells": [
  {
   "cell_type": "markdown",
   "id": "4fc7999d",
   "metadata": {},
   "source": [
    "### Tercer ejercicio:\n",
    "\n",
    "1. From the list of grades [15, 17, 20, 11, 13, 18, 19], create a Pandas Series assigning student names as the index (for example: \"Ana\", \"Jorge\", \"Valeria\", etc.).\n",
    "\n",
    "En ese sentido, la lista es la siguiente:"
   ]
  },
  {
   "cell_type": "code",
   "execution_count": 3,
   "id": "d0fb4aea",
   "metadata": {},
   "outputs": [],
   "source": [
    "# Primero las librerias\n",
    "\n",
    "import pandas as pd\n",
    "import numpy as np"
   ]
  },
  {
   "cell_type": "code",
   "execution_count": 5,
   "id": "ce5460fc",
   "metadata": {},
   "outputs": [
    {
     "data": {
      "text/html": [
       "<div>\n",
       "<style scoped>\n",
       "    .dataframe tbody tr th:only-of-type {\n",
       "        vertical-align: middle;\n",
       "    }\n",
       "\n",
       "    .dataframe tbody tr th {\n",
       "        vertical-align: top;\n",
       "    }\n",
       "\n",
       "    .dataframe thead th {\n",
       "        text-align: right;\n",
       "    }\n",
       "</style>\n",
       "<table border=\"1\" class=\"dataframe\">\n",
       "  <thead>\n",
       "    <tr style=\"text-align: right;\">\n",
       "      <th></th>\n",
       "      <th>Students</th>\n",
       "      <th>Grades</th>\n",
       "    </tr>\n",
       "  </thead>\n",
       "  <tbody>\n",
       "    <tr>\n",
       "      <th>0</th>\n",
       "      <td>Ana</td>\n",
       "      <td>15</td>\n",
       "    </tr>\n",
       "    <tr>\n",
       "      <th>1</th>\n",
       "      <td>Jorge</td>\n",
       "      <td>17</td>\n",
       "    </tr>\n",
       "    <tr>\n",
       "      <th>2</th>\n",
       "      <td>Valeria</td>\n",
       "      <td>20</td>\n",
       "    </tr>\n",
       "    <tr>\n",
       "      <th>3</th>\n",
       "      <td>Arianna</td>\n",
       "      <td>11</td>\n",
       "    </tr>\n",
       "    <tr>\n",
       "      <th>4</th>\n",
       "      <td>Mirzha</td>\n",
       "      <td>13</td>\n",
       "    </tr>\n",
       "    <tr>\n",
       "      <th>5</th>\n",
       "      <td>Eduardo</td>\n",
       "      <td>18</td>\n",
       "    </tr>\n",
       "    <tr>\n",
       "      <th>6</th>\n",
       "      <td>Anel</td>\n",
       "      <td>19</td>\n",
       "    </tr>\n",
       "  </tbody>\n",
       "</table>\n",
       "</div>"
      ],
      "text/plain": [
       "  Students  Grades\n",
       "0      Ana      15\n",
       "1    Jorge      17\n",
       "2  Valeria      20\n",
       "3  Arianna      11\n",
       "4   Mirzha      13\n",
       "5  Eduardo      18\n",
       "6     Anel      19"
      ]
     },
     "execution_count": 5,
     "metadata": {},
     "output_type": "execute_result"
    }
   ],
   "source": [
    "# Grades\n",
    "students = [ \"Ana\", \"Jorge\", \"Valeria\", \"Arianna\", \"Mirzha\", \"Eduardo\", \"Anel\" ]\n",
    "grades     = [ 15, 17, 20, 11, 13, 18, 19]\n",
    "grades_A = {'Students':students, 'Grades':grades}\n",
    "\n",
    "# Dataframe con pandas\n",
    "gradesA1 = pd.DataFrame( grades_A )\n",
    "gradesA1"
   ]
  },
  {
   "cell_type": "markdown",
   "id": "f703c52e",
   "metadata": {},
   "source": [
    "2. Using the Series created in the previous step, calculate:\n",
    "\n",
    "2.1. The average of the grades.\n",
    "2.2. The student with the highest grade (use .idxmax()).\n",
    "2.3. The student with the lowest grade (use .idxmin())."
   ]
  },
  {
   "cell_type": "code",
   "execution_count": 6,
   "id": "569c8e8d",
   "metadata": {},
   "outputs": [
    {
     "name": "stdout",
     "output_type": "stream",
     "text": [
      "16.142857142857142\n"
     ]
    }
   ],
   "source": [
    "# 2.1. The average of grades\n",
    "\n",
    "promedio = gradesA1[\"Grades\"].mean()\n",
    "print(promedio)"
   ]
  },
  {
   "cell_type": "code",
   "execution_count": 7,
   "id": "2e8bcd9e",
   "metadata": {},
   "outputs": [
    {
     "name": "stdout",
     "output_type": "stream",
     "text": [
      "The student with the highest grade is Valeria with 20.\n"
     ]
    }
   ],
   "source": [
    "# 2.2. The student with the highest grade\n",
    "\n",
    "# index of the highest grade\n",
    "idx_max = gradesA1[\"Grades\"].idxmax()\n",
    "\n",
    "# corresponding student\n",
    "top_student = gradesA1[\"Students\"][idx_max]\n",
    "top_grade = gradesA1[\"Grades\"][idx_max]\n",
    "\n",
    "print(f\"The student with the highest grade is {top_student} with {top_grade}.\")"
   ]
  },
  {
   "cell_type": "code",
   "execution_count": 8,
   "id": "4e3ebfb8",
   "metadata": {},
   "outputs": [
    {
     "name": "stdout",
     "output_type": "stream",
     "text": [
      "The student with the lowest grade is Arianna with 11.\n"
     ]
    }
   ],
   "source": [
    "# 2.3. The student with the lowest grade (use .idxmin()).\n",
    "\n",
    "# index of the highest grade\n",
    "idx_min = gradesA1[\"Grades\"].idxmin()\n",
    "\n",
    "# corresponding student\n",
    "low_student = gradesA1[\"Students\"][idx_min]\n",
    "low_grade = gradesA1[\"Grades\"][idx_min]\n",
    "\n",
    "print(f\"The student with the lowest grade is {low_student} with {low_grade}.\")\n"
   ]
  },
  {
   "cell_type": "markdown",
   "id": "e4d2e78b",
   "metadata": {},
   "source": [
    "3. Create a Series from a dictionary of countries and their capitals.\n",
    "Filter and display only those countries whose capital has more than 6 letters."
   ]
  },
  {
   "cell_type": "code",
   "execution_count": 12,
   "id": "2d5ca521",
   "metadata": {},
   "outputs": [
    {
     "data": {
      "text/html": [
       "<div>\n",
       "<style scoped>\n",
       "    .dataframe tbody tr th:only-of-type {\n",
       "        vertical-align: middle;\n",
       "    }\n",
       "\n",
       "    .dataframe tbody tr th {\n",
       "        vertical-align: top;\n",
       "    }\n",
       "\n",
       "    .dataframe thead th {\n",
       "        text-align: right;\n",
       "    }\n",
       "</style>\n",
       "<table border=\"1\" class=\"dataframe\">\n",
       "  <thead>\n",
       "    <tr style=\"text-align: right;\">\n",
       "      <th></th>\n",
       "      <th>Country</th>\n",
       "      <th>Capital</th>\n",
       "    </tr>\n",
       "  </thead>\n",
       "  <tbody>\n",
       "    <tr>\n",
       "      <th>0</th>\n",
       "      <td>Albania</td>\n",
       "      <td>Tiranë (Tirana)</td>\n",
       "    </tr>\n",
       "    <tr>\n",
       "      <th>1</th>\n",
       "      <td>Algeria</td>\n",
       "      <td>El Djazaïr  (Algiers)</td>\n",
       "    </tr>\n",
       "    <tr>\n",
       "      <th>2</th>\n",
       "      <td>American Samoa</td>\n",
       "      <td>Pago Pago</td>\n",
       "    </tr>\n",
       "    <tr>\n",
       "      <th>3</th>\n",
       "      <td>Andorra</td>\n",
       "      <td>Andorra la Vella</td>\n",
       "    </tr>\n",
       "    <tr>\n",
       "      <th>4</th>\n",
       "      <td>Anguilla</td>\n",
       "      <td>The Valley</td>\n",
       "    </tr>\n",
       "    <tr>\n",
       "      <th>...</th>\n",
       "      <td>...</td>\n",
       "      <td>...</td>\n",
       "    </tr>\n",
       "    <tr>\n",
       "      <th>161</th>\n",
       "      <td>Vanuatu</td>\n",
       "      <td>Port Vila</td>\n",
       "    </tr>\n",
       "    <tr>\n",
       "      <th>162</th>\n",
       "      <td>Venezuela (Bolivarian Republic of)</td>\n",
       "      <td>Caracas</td>\n",
       "    </tr>\n",
       "    <tr>\n",
       "      <th>163</th>\n",
       "      <td>Wallis and Futuna Islands</td>\n",
       "      <td>Matu-Utu</td>\n",
       "    </tr>\n",
       "    <tr>\n",
       "      <th>164</th>\n",
       "      <td>Western Sahara</td>\n",
       "      <td>El Aaiún</td>\n",
       "    </tr>\n",
       "    <tr>\n",
       "      <th>165</th>\n",
       "      <td>Yemen</td>\n",
       "      <td>Sana'a'</td>\n",
       "    </tr>\n",
       "  </tbody>\n",
       "</table>\n",
       "<p>166 rows × 2 columns</p>\n",
       "</div>"
      ],
      "text/plain": [
       "                                Country                Capital\n",
       "0                               Albania        Tiranë (Tirana)\n",
       "1                               Algeria  El Djazaïr  (Algiers)\n",
       "2                        American Samoa              Pago Pago\n",
       "3                               Andorra       Andorra la Vella\n",
       "4                              Anguilla             The Valley\n",
       "..                                  ...                    ...\n",
       "161                             Vanuatu              Port Vila\n",
       "162  Venezuela (Bolivarian Republic of)                Caracas\n",
       "163           Wallis and Futuna Islands               Matu-Utu\n",
       "164                      Western Sahara               El Aaiún\n",
       "165                               Yemen                Sana'a'\n",
       "\n",
       "[166 rows x 2 columns]"
      ]
     },
     "execution_count": 12,
     "metadata": {},
     "output_type": "execute_result"
    }
   ],
   "source": [
    "# Read CSV from URL\n",
    "url = \"https://gist.githubusercontent.com/ofou/df09a6834a8421b4f376c875194915c9/raw/355eb56e164ddc3cd1a9467c524422cb674e71a9/country-capital-lat-long-population.csv\"\n",
    "df = pd.read_csv(url)\n",
    "\n",
    "# Filter capitals with more than 6 letters\n",
    "table = df[df[\"Capital City\"].str.len() > 6][[\"Country\", \"Capital City\"]]\n",
    "table = table.rename(columns={\"Country\": \"Country\", \"Capital City\": \"Capital\"})\n",
    "\n",
    "# Sort alphabetically\n",
    "table = table.sort_values(by=\"Country\").reset_index(drop=True)\n",
    "\n",
    "# Display as a DataFrame\n",
    "table\n"
   ]
  },
  {
   "cell_type": "markdown",
   "id": "c0db991e",
   "metadata": {},
   "source": [
    "4. Create a Series containing several strings and convert all its elements to uppercase using the .apply(str.upper) method."
   ]
  },
  {
   "cell_type": "code",
   "execution_count": 13,
   "id": "c077c84c",
   "metadata": {},
   "outputs": [
    {
     "data": {
      "text/plain": [
       "0      RIVEIRA\n",
       "1      ZUBIETA\n",
       "2       MIRZHA\n",
       "3      BRIZETH\n",
       "4       CAVERO\n",
       "5       RIVERA\n",
       "6      EDUARDO\n",
       "7      DAVIDAD\n",
       "8       ZAVALA\n",
       "9     CASTILLO\n",
       "10     ARIANNA\n",
       "11     NICKOLE\n",
       "12     VASQUEZ\n",
       "13       CIEZA\n",
       "14        ANEL\n",
       "15      ROMINA\n",
       "dtype: object"
      ]
     },
     "execution_count": 13,
     "metadata": {},
     "output_type": "execute_result"
    }
   ],
   "source": [
    "names = pd.Series([\n",
    "    \"Riveira\",\n",
    "    \"Zubieta\",\n",
    "    \"Mirzha\",\n",
    "    \"Brizeth\",\n",
    "    \"Cavero\",\n",
    "    \"Rivera\",\n",
    "    \"Eduardo\",\n",
    "    \"Davidad\",\n",
    "    \"Zavala\",\n",
    "    \"Castillo\",\n",
    "    \"Arianna\",\n",
    "    \"Nickole\",\n",
    "    \"Vasquez\",\n",
    "    \"Cieza\",\n",
    "    \"Anel\",\n",
    "    \"Romina\"\n",
    "])\n",
    "\n",
    "upper_names = names.apply(str.upper)\n",
    "upper_names"
   ]
  },
  {
   "cell_type": "code",
   "execution_count": null,
   "id": "9d16e1ae",
   "metadata": {},
   "outputs": [],
   "source": []
  }
 ],
 "metadata": {
  "kernelspec": {
   "display_name": "Python 3 (ipykernel)",
   "language": "python",
   "name": "python3"
  },
  "language_info": {
   "codemirror_mode": {
    "name": "ipython",
    "version": 3
   },
   "file_extension": ".py",
   "mimetype": "text/x-python",
   "name": "python",
   "nbconvert_exporter": "python",
   "pygments_lexer": "ipython3",
   "version": "3.9.7"
  }
 },
 "nbformat": 4,
 "nbformat_minor": 5
}
