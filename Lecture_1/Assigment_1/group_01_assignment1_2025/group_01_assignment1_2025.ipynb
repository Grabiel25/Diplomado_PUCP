{
 "cells": [
  {
   "cell_type": "markdown",
   "id": "378ceed9",
   "metadata": {},
   "source": [
    "# Assignment 1 – Group 01\n",
    "\n",
    "This notebook contains answers to Part 1, 2 and 3.\n",
    "\n",
    "---\n",
    "\n",
    "## Part 1 – Git Workflow (Branch → Pull Request → Merge)\n",
    "\n",
    "1. [ ] Explain the difference between **working on a branch** and **working directly on `main`**. Why is it recommended to always use branches in collaborative projects?  [1 pts] \n",
    "\n",
    "> ...\n",
    "\n",
    "2. [X] Create a branch with the following naming format: `group_##_assignment1_2025` *(Example: group_01_assignment1_2025)*. All group results must be saved inside this [folder](https://github.com/alexanderquispe/Diplomado_PUCP/tree/main/Lecture_1/Assigment_1).  \n",
    "\n",
    "3. [ ] Within that branch, create a file called **movies.md** where you include at least **3 favorite movies**. For each movie, you must include: Title, Release year and Synopsis (max. 3 lines). Use Markdown to format (titles, subtitles, **bold**, *italics*, bullet points, etc.).  \n",
    "\n",
    "4. [ ] Make a commit with the following message: \"Added my favorite movies\". Write down the corresponding Git command. Choose **one group member** to act as the *repository maintainer*. Their responsibilities will be:  \n",
    "   - Reviewing all contributions  \n",
    "   - Managing the group branch  \n",
    "   - Performing the **final merge** into `main`  \n",
    "\n",
    "\n",
    "6. [ ] Create a **Pull Request (PR)** on GitHub to merge the group branch into `main`. Explain in which cases a *reviewer* might reject the PR (e.g., code conflicts, formatting errors, failure to follow instructions, etc.).  \n",
    "\n",
    "> ...\n"
   ]
  },
  {
   "cell_type": "code",
   "execution_count": null,
   "id": "7ed82ef3-1544-4256-bf54-484dd84159c2",
   "metadata": {},
   "outputs": [],
   "source": []
  },
  {
   "cell_type": "markdown",
   "id": "9add4963-3bab-44fb-88d2-df68df016bba",
   "metadata": {},
   "source": [
    "---\n",
    "\n",
    "## Part 2 – Data Types and Data Structures  \n",
    "\n",
    "6. [ ] Declare a variable for each of the following types: **int**, **float**, **string**, and **boolean**.  \n",
    "   Then print the type of each variable using the `type()` function.  \n",
    "\n",
    "7. [ ] Create a list that contains the following elements:  \n",
    "   - A string  \n",
    "   - A boolean value  \n",
    "   - Two numeric values (of any type)  \n",
    "   - A list with two strings representing your favorite music artists  \n",
    "\n",
    "- [ ] From that list:  \n",
    "   - Access the **first** and the **last** element  \n",
    "   - Add a new string  \n",
    "   - Remove the boolean value  \n",
    "\n",
    "8. [ ] Define a **tuple** that contains: [1 pts] \n",
    "   - A string  \n",
    "   - A boolean  \n",
    "   - A tuple with three numeric values (of any type)  \n",
    "\n",
    "  \n",
    "\n",
    "- [ ] Explain in your own words why a tuple is **immutable** and try to modify one of its elements to prove it.  \n",
    "\n",
    "9. [ ] Write a Python function named **`movie_summary`** that takes as argument a dictionary of movies with the following structure:  \n",
    "\n",
    "   ```python\n",
    "   movies = {\n",
    "     \"Inception\": {\"year\": 2010, \"genre\": \"Sci-Fi\"},\n",
    "     \"Parasite\": {\"year\": 2019, \"genre\": \"Drama\"},\n",
    "     \"Whiplash\": {\"year\": 2014, \"genre\": \"Drama\"}\n",
    "   }\n",
    "   ```\n",
    "   \n",
    "The function must return a list with sentences in the following format:  \n",
    "\n",
    "> \"The movie Inception belongs to the Sci-Fi genre and was released in 2010.\"  \n",
    "\n",
    "10. [ ] Using **NumPy**, generate a **4x4 matrix** with random integers between 1 and 100.  \n",
    "Then calculate:  \n",
    "- The **mean per column**  \n",
    "- The **sum of the values in the main diagonal**  \n"
   ]
  },
  {
   "cell_type": "code",
   "execution_count": null,
   "id": "cb102207-25cb-4cd4-99dc-89afeee34261",
   "metadata": {},
   "outputs": [],
   "source": []
  },
  {
   "cell_type": "markdown",
   "id": "9174c20c-958b-439b-a0bd-717ac1445533",
   "metadata": {},
   "source": [
    "---\n",
    "\n",
    "## Part 3 – Pandas Series  \n",
    "\n",
    "11. [ ] From the list of grades `[15, 17, 20, 11, 13, 18, 19]`, create a **Pandas Series** assigning student names as the index (for example: `\"Ana\"`, `\"Jorge\"`, `\"Valeria\"`, etc.).  \n",
    "\n",
    "12. [ ] Using the Series created in the previous step, calculate:  \n",
    "   - The **average of the grades**.  \n",
    "   - The **student with the highest grade** (use `.idxmax()`).  \n",
    "   - The **student with the lowest grade** (use `.idxmin()`).  \n",
    "\n",
    "13.  [ ] Create a Series from a **dictionary of countries and their capitals**.  \n",
    "    Filter and display only those countries whose capital has more than **6 letters**.  \n",
    "\n",
    "14. [ ] Create a Series containing several **strings** and convert all its elements to **uppercase** using the `.apply(str.upper)` method.  \n",
    "\n"
   ]
  },
  {
   "cell_type": "code",
   "execution_count": null,
   "id": "8bd1c7bc",
   "metadata": {},
   "outputs": [],
   "source": [
    "import pandas as pd"
   ]
  },
  {
   "cell_type": "code",
   "execution_count": null,
   "id": "13221713-404e-436a-b0f0-9d0fdd6d760d",
   "metadata": {},
   "outputs": [],
   "source": [
    "#Answer 1.1 this script creates a DataFrame with the grades and students\n",
    "grades = [15, 17, 20, 11, 13, 18, 19]\n",
    "students = ['Ana', 'Jorge', 'Valeria', 'David', 'Evelin', 'Franco', 'Grecia']\n",
    "\n",
    "grades_series = pd.Series(grades, index=students)\n",
    "\n",
    "grades_series"
   ]
  },
  {
   "cell_type": "code",
   "execution_count": null,
   "id": "1cf3759f",
   "metadata": {},
   "outputs": [],
   "source": [
    "#Answer 1.2 this script calculates the average grade, highest and lowest student\n",
    "average_grade = grades_series.mean()\n",
    "highest_student = grades_series.idxmax()\n",
    "lowest_student = grades_series.idxmin()\n",
    "\n",
    "average_grade, highest_student, lowest_student"
   ]
  },
  {
   "cell_type": "code",
   "execution_count": null,
   "id": "e7ef22eb",
   "metadata": {},
   "outputs": [],
   "source": [
    "#Answer 1.3 this script creates a dictionary of countries and their capitals\n",
    "countries = {\n",
    "    'Peru': 'Lima',\n",
    "    'Colombia' : 'Bogotá',\n",
    "    'Argentina': 'Buenos Aires',\n",
    "    'Chile': 'Santiago de Chile',\n",
    "    'Ecuador': 'Quito',\n",
    "    'Bolivia': 'Sucre',\n",
    "    'Brazil': 'Brasilia',\n",
    "    'Venezuela': 'Caracas'\n",
    "}\n",
    "\n",
    "countries_series = pd.Series(countries)\n",
    "countries_filered = countries_series[countries_series.str.len()>6]\n",
    "\n",
    "countries_filered"
   ]
  },
  {
   "cell_type": "code",
   "execution_count": null,
   "id": "8d763cf8",
   "metadata": {},
   "outputs": [],
   "source": [
    "#Answer 1.4 this script creates a Series with text data\n",
    "text = ['diplomado', 'pucp', 'python', 'data science', 'machine learning', 'artificial intelligence']\n",
    "text_series = pd.Series(text)\n",
    "text_series = text_series.apply(str.upper)\n",
    "text_series"
   ]
  }
 ],
 "metadata": {
  "kernelspec": {
   "display_name": "Python 3",
   "language": "python",
   "name": "python3"
  },
  "language_info": {
   "codemirror_mode": {
    "name": "ipython",
    "version": 3
   },
   "file_extension": ".py",
   "mimetype": "text/x-python",
   "name": "python",
   "nbconvert_exporter": "python",
   "pygments_lexer": "ipython3",
   "version": "3.13.2"
  }
 },
 "nbformat": 4,
 "nbformat_minor": 5
}
