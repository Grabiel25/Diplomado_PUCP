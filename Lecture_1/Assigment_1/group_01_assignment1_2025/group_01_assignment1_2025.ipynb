{
 "cells": [
  {
   "cell_type": "markdown",
   "id": "378ceed9",
   "metadata": {},
   "source": [
    "# Assignment 1 – Group 01\n",
    "\n",
    "This notebook contains answers to Part 1, 2 and 3.\n",
    "\n",
    "---\n",
    "\n",
    "## Part 1 – Git Workflow (Branch → Pull Request → Merge)\n",
    "\n",
    "1. [ ] Explain the difference between **working on a branch** and **working directly on `main`**. Why is it recommended to always use branches in collaborative projects?  [1 pts] \n",
    "\n",
    "> ## **Trabajar en el main directamente y el branch** \n",
    "> El **main** es la rama principal y es parte del repositorio; sin embargo, un **branch** es una rama es una línea independiente\n",
    "separado del main y no altera el repositorio.\n",
    "> Al hacer cambios directamente en el main, cada commit afecta a la base del código; por otro lado, con los brach puede \n",
    "crearse nuevas funcionalidades, corregir errores sin alterar el versión principal. \n",
    "> Trabajar directamente en el main representa muchos riesgos: los errores o funciones pueden poner en riesgo el proyecto; \n",
    "se dificulta la revisión, aprobación de los cambios y se pueden generar conflicto de código. \n",
    "En contraposición, el branc es versátil y mantiene estable el proyecto; facilita la revisión de código, se reducen los conflictos y errores; permite varias tareas en simultáneo....\n",
    "\n",
    "2. [X] Create a branch with the following naming format: `group_##_assignment1_2025` *(Example: group_01_assignment1_2025)*. All group results must be saved inside this [folder](https://github.com/alexanderquispe/Diplomado_PUCP/tree/main/Lecture_1/Assigment_1).  \n",
    "\n",
    "3. [ ] Within that branch, create a file called **movies.md** where you include at least **3 favorite movies**. For each movie, you must include: Title, Release year and Synopsis (max. 3 lines). Use Markdown to format (titles, subtitles, **bold**, *italics*, bullet points, etc.).  \n",
    "\n",
    "4. [ ] Make a commit with the following message: \"Added my favorite movies\". Write down the corresponding Git command. Choose **one group member** to act as the *repository maintainer*. Their responsibilities will be:  \n",
    "   - Reviewing all contributions  \n",
    "   - Managing the group branch  \n",
    "   - Performing the **final merge** into `main`  \n",
    "\n",
    "\n",
    "6. [ ] Create a **Pull Request (PR)** on GitHub to merge the group branch into `main`. Explain in which cases a *reviewer* might reject the PR (e.g., code conflicts, formatting errors, failure to follow instructions, etc.).  \n"
   ]
  },
  {
   "cell_type": "code",
   "execution_count": null,
   "id": "7ed82ef3-1544-4256-bf54-484dd84159c2",
   "metadata": {},
   "outputs": [],
   "source": [
    "> > Para el trabajo colaborativo efectivo debemos crear o generar las ramas (branch) con la finalidad que todos los integrantes del grupo puedan reaizar sus tareas asignadas sin contratiempos y a cargo de un supervisor que al final da la confrmidad y consolida el trabajo grupal.\n",
    "> Después de haber delegados las distintas tareas a los colaborados a través de los Branch (ramas) debemos de incluirlas en el Main (o la rama troncal del proyecto). Para ello debemos seguir los siguientes pasos:\n",
    "1.\tAsumimos que se ha han creado varios Branches que deseamos unir al Main\n",
    "2.\tSeleccionamos el Branch de nuestro interés. Hacemos clic en los tres puntos y seleccionamos New pull request.\n",
    "3.\tRecordemos que el New pull request, es solicitar autorización para que se acepte la modificación o que el Branch se una al Mainbranch. La nueva ventana nos solicita agregar un título, una descripción y finalmente Create pull request.\n",
    "4.\tRealizamos el merge pull request\n",
    "5.\tConfirmamos el merg.\n",
    "6.\tPara cerciorarnos de los cambios y visualizarlo vamos a Code.\n",
    "7.\tFinalmente, seleccionamos Main y visualizamos todos los aportes de colaboradores.\n",
    "8. Enviar el Pull Request (PR) para su revisión.\n",
    " \n",
    "¿Cómo resolver conflictos en el proceso del trabajo colaborativo? De existir conflictos en el proceso, el sistema nos arroja el siguiente mensaje: Resolve conflicts.\n",
    "1.\tGitHub nos muestra dónde están los conflictos. En el ejemplo de clase fueron Movies y Actors.\n",
    "2.\tLos conflictos se originan por varios motivos, pero deben ser solucionados por el director del equipo. Es conflictos se corrigen de manera manual. Así por ejemplo, si alguno de ellos no es el correcto se elimina, pero si los dos están bien se eliminan manualmente los signos (igual, mayor y menor). \n",
    "3.\tA continuación, marcamos como resuelto.\n",
    "4.\tDespués, commit merge\n",
    "5.\tAhora, confirmamos el merge\n",
    "6.\tComo penúltimo paso seleccionamos Code.\n",
    "7.\tFinalmente, el mainbranch está completo.\n",
    "8. Enviar el Pull Request (PR) para su revisión.\n",
    " ..."
   ]
  },
  {
   "cell_type": "markdown",
   "id": "9add4963-3bab-44fb-88d2-df68df016bba",
   "metadata": {},
   "source": [
    "---\n",
    "\n",
    "## Part 2 – Data Types and Data Structures  \n",
    "\n",
    "6. [ ] Declare a variable for each of the following types: **int**, **float**, **string**, and **boolean**.  \n",
    "   Then print the type of each variable using the `type()` function.  \n",
    "\n",
    "7. [ ] Create a list that contains the following elements:  \n",
    "   - A string  \n",
    "   - A boolean value  \n",
    "   - Two numeric values (of any type)  \n",
    "   - A list with two strings representing your favorite music artists  \n",
    "\n",
    "- [ ] From that list:  \n",
    "   - Access the **first** and the **last** element  \n",
    "   - Add a new string  \n",
    "   - Remove the boolean value  \n",
    "\n",
    "8. [ ] Define a **tuple** that contains: [1 pts] \n",
    "   - A string  \n",
    "   - A boolean  \n",
    "   - A tuple with three numeric values (of any type)  \n",
    "\n",
    "  \n",
    "\n",
    "- [ ] Explain in your own words why a tuple is **immutable** and try to modify one of its elements to prove it.  \n",
    "\n",
    "9. [ ] Write a Python function named **`movie_summary`** that takes as argument a dictionary of movies with the following structure:  \n",
    "\n",
    "   ```python\n",
    "   movies = {\n",
    "     \"Inception\": {\"year\": 2010, \"genre\": \"Sci-Fi\"},\n",
    "     \"Parasite\": {\"year\": 2019, \"genre\": \"Drama\"},\n",
    "     \"Whiplash\": {\"year\": 2014, \"genre\": \"Drama\"}\n",
    "   }\n",
    "   ```\n",
    "   \n",
    "The function must return a list with sentences in the following format:  \n",
    "\n",
    "> \"The movie Inception belongs to the Sci-Fi genre and was released in 2010.\"  \n",
    "\n",
    "10. [ ] Using **NumPy**, generate a **4x4 matrix** with random integers between 1 and 100.  \n",
    "Then calculate:  \n",
    "- The **mean per column**  \n",
    "- The **sum of the values in the main diagonal**  \n"
   ]
  },
  {
   "cell_type": "code",
   "execution_count": 2,
   "id": "cb102207-25cb-4cd4-99dc-89afeee34261",
   "metadata": {},
   "outputs": [
    {
     "name": "stdout",
     "output_type": "stream",
     "text": [
      "my_int: <class 'int'>\n",
      "my_float: <class 'float'>\n",
      "my_string: <class 'str'>\n",
      "my_bool: <class 'bool'>\n"
     ]
    }
   ],
   "source": [
    "# 6. Declare a variable for each of the following types: int, float, string, and boolean.\n",
    "#Then print the type of each variable using the type() function.\n",
    "my_int = 10\n",
    "my_float = 3.14\n",
    "my_string = \"Hola\"\n",
    "my_bool = True\n",
    "\n",
    "# Imprimir el tipo de cada variable\n",
    "print(\"my_int:\", type(my_int))\n",
    "print(\"my_float:\", type(my_float))\n",
    "print(\"my_string:\", type(my_string))\n",
    "print(\"my_bool:\", type(my_bool))"
   ]
  },
  {
   "cell_type": "code",
   "execution_count": 7,
   "id": "957075ef-40f3-43dd-9bd8-f83ee5b0a6ad",
   "metadata": {},
   "outputs": [
    {
     "name": "stdout",
     "output_type": "stream",
     "text": [
      "['Hola', True, 10, 3.14, ['Coldplay', 'Adele']]\n"
     ]
    }
   ],
   "source": [
    "# 7. Create a list that contains the following elements:\n",
    "#A string\n",
    "#A boolean value\n",
    "#Two numeric values (of any type)\n",
    "#A list with two strings representing your favorite music artists\n",
    "\n",
    "my_list = [\"Hola\", True, 10, 3.14,[\"Coldplay\", \"Adele\"]]\n",
    "\n",
    "# Imprimir la lista completa\n",
    "print(my_list)"
   ]
  },
  {
   "cell_type": "code",
   "execution_count": 8,
   "id": "6f156727-ebc6-407b-9c3d-58984c748c5d",
   "metadata": {},
   "outputs": [
    {
     "name": "stdout",
     "output_type": "stream",
     "text": [
      "('Hola', False, (10, 20.5, 3))\n"
     ]
    }
   ],
   "source": [
    "#8. Define a tuple that contains: [1 pts]\n",
    "#A string\n",
    "#A boolean\n",
    "#A tuple with three numeric values (of any type)\n",
    "\n",
    "my_tuple = (\"Hola\", False, (10, 20.5, 3))\n",
    "\n",
    "# Imprimir la tupla\n",
    "print(my_tuple)"
   ]
  },
  {
   "cell_type": "code",
   "execution_count": null,
   "id": "822aaaf6-8926-40bc-a21f-2d96f7b03b31",
   "metadata": {},
   "outputs": [],
   "source": []
  },
  {
   "cell_type": "markdown",
   "id": "9174c20c-958b-439b-a0bd-717ac1445533",
   "metadata": {},
   "source": [
    "---\n",
    "\n",
    "## Part 3 – Pandas Series  \n",
    "\n",
    "11. [ ] From the list of grades `[15, 17, 20, 11, 13, 18, 19]`, create a **Pandas Series** assigning student names as the index (for example: `\"Ana\"`, `\"Jorge\"`, `\"Valeria\"`, etc.).  \n",
    "\n",
    "12. [ ] Using the Series created in the previous step, calculate:  \n",
    "   - The **average of the grades**.  \n",
    "   - The **student with the highest grade** (use `.idxmax()`).  \n",
    "   - The **student with the lowest grade** (use `.idxmin()`).  \n",
    "\n",
    "13.  [ ] Create a Series from a **dictionary of countries and their capitals**.  \n",
    "    Filter and display only those countries whose capital has more than **6 letters**.  \n",
    "\n",
    "14. [ ] Create a Series containing several **strings** and convert all its elements to **uppercase** using the `.apply(str.upper)` method.  \n",
    "\n"
   ]
  },
  {
   "cell_type": "code",
   "execution_count": null,
   "id": "8bd1c7bc",
   "metadata": {},
   "outputs": [],
   "source": [
    "import pandas as pd"
   ]
  },
  {
   "cell_type": "code",
   "execution_count": null,
   "id": "13221713-404e-436a-b0f0-9d0fdd6d760d",
   "metadata": {},
   "outputs": [],
   "source": [
    "#Answer 1.1 this script creates a DataFrame with the grades and students\n",
    "grades = [15, 17, 20, 11, 13, 18, 19]\n",
    "students = ['Ana', 'Jorge', 'Valeria', 'David', 'Evelin', 'Franco', 'Grecia']\n",
    "\n",
    "grades_series = pd.Series(grades, index=students)\n",
    "\n",
    "grades_series"
   ]
  },
  {
   "cell_type": "code",
   "execution_count": null,
   "id": "1cf3759f",
   "metadata": {},
   "outputs": [],
   "source": [
    "#Answer 1.2 this script calculates the average grade, highest and lowest student\n",
    "average_grade = grades_series.mean()\n",
    "highest_student = grades_series.idxmax()\n",
    "lowest_student = grades_series.idxmin()\n",
    "\n",
    "average_grade, highest_student, lowest_student"
   ]
  },
  {
   "cell_type": "code",
   "execution_count": null,
   "id": "e7ef22eb",
   "metadata": {},
   "outputs": [],
   "source": [
    "#Answer 1.3 this script creates a dictionary of countries and their capitals\n",
    "countries = {\n",
    "    'Peru': 'Lima',\n",
    "    'Colombia' : 'Bogotá',\n",
    "    'Argentina': 'Buenos Aires',\n",
    "    'Chile': 'Santiago de Chile',\n",
    "    'Ecuador': 'Quito',\n",
    "    'Bolivia': 'Sucre',\n",
    "    'Brazil': 'Brasilia',\n",
    "    'Venezuela': 'Caracas'\n",
    "}\n",
    "\n",
    "countries_series = pd.Series(countries)\n",
    "countries_filered = countries_series[countries_series.str.len()>6]\n",
    "\n",
    "countries_filered"
   ]
  },
  {
   "cell_type": "code",
   "execution_count": null,
   "id": "8d763cf8",
   "metadata": {},
   "outputs": [],
   "source": [
    "#Answer 1.4 this script creates a Series with text data\n",
    "text = ['diplomado', 'pucp', 'python', 'data science', 'machine learning', 'artificial intelligence']\n",
    "text_series = pd.Series(text)\n",
    "text_series = text_series.apply(str.upper)\n",
    "text_series"
   ]
  }
 ],
 "metadata": {
  "kernelspec": {
   "display_name": "Python [conda env:base] *",
   "language": "python",
   "name": "conda-base-py"
  },
  "language_info": {
   "codemirror_mode": {
    "name": "ipython",
    "version": 3
   },
   "file_extension": ".py",
   "mimetype": "text/x-python",
   "name": "python",
   "nbconvert_exporter": "python",
   "pygments_lexer": "ipython3",
   "version": "3.11.5"
  }
 },
 "nbformat": 4,
 "nbformat_minor": 5
}
