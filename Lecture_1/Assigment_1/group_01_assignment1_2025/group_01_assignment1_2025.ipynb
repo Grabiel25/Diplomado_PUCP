{
  "cells": [
    {
      "cell_type": "markdown",
      "metadata": {},
      "source": [
        "# Assignment 1 – Group 01\n",
        "\n",
        "Starter notebook created to replace a corrupted file."
      ]
    },
    {
      "cell_type": "code",
      "execution_count": null,
      "metadata": {},
      "outputs": [],
      "source": []
    }
  ],
  "metadata": {
    "kernelspec": {
      "display_name": "Python 3",
      "language": "python",
      "name": "python3"
    },
    "language_info": {
      "name": "python",
      "version": "3.x"
    }
  },
  "nbformat": 4,
  "nbformat_minor": 5
}
