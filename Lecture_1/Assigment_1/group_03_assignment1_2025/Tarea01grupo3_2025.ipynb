{
 "cells": [
  {
   "cell_type": "code",
   "execution_count": null,
   "id": "349a1fef",
   "metadata": {},
   "outputs": [],
   "source": [
    "# Parte 2A: Data Types & List/Tuple"
   ]
  },
  {
   "cell_type": "code",
   "execution_count": null,
   "id": "1fd6fc7b",
   "metadata": {},
   "outputs": [],
   "source": [
    "# 1) Declarar variables int, float, string, bool\n",
    "edad = 25                 # int\n",
    "altura = 1.78             # float\n",
    "nombre = \"Freddy\"         # string\n",
    "es_estudiante = True      # bool"
   ]
  },
  {
   "cell_type": "code",
   "execution_count": null,
   "id": "db040029",
   "metadata": {},
   "outputs": [
    {
     "name": "stdout",
     "output_type": "stream",
     "text": [
      "Tipos de variables:\n",
      "<class 'int'> <class 'float'> <class 'str'> <class 'bool'> \n",
      "\n"
     ]
    }
   ],
   "source": [
    "# 2) Imprimir type() de cada una\n",
    "print(\"Tipos de variables:\")\n",
    "print(type(edad), type(altura), type(nombre), type(es_estudiante), \"\\n\")"
   ]
  },
  {
   "cell_type": "code",
   "execution_count": null,
   "id": "8e214161",
   "metadata": {},
   "outputs": [
    {
     "name": "stdout",
     "output_type": "stream",
     "text": [
      "Lista inicial: [25, 1.78, 'Freddy', True]\n"
     ]
    }
   ],
   "source": [
    "# 3) Crear una lista con los elementos pedidos (puedes mezclar tipos)\n",
    "mi_lista = [edad, altura, nombre, es_estudiante]\n",
    "print(\"Lista inicial:\", mi_lista)"
   ]
  },
  {
   "cell_type": "code",
   "execution_count": null,
   "id": "f9045962",
   "metadata": {},
   "outputs": [
    {
     "name": "stdout",
     "output_type": "stream",
     "text": [
      "Primer elemento: 25\n",
      "Último elemento: True \n",
      "\n"
     ]
    }
   ],
   "source": [
    "# 4) Acceder al primer y último elemento\n",
    "print(\"Primer elemento:\", mi_lista[0])   # índice 0\n",
    "print(\"Último elemento:\", mi_lista[-1], \"\\n\")  # índice negativo"
   ]
  },
  {
   "cell_type": "code",
   "execution_count": null,
   "id": "406b4900",
   "metadata": {},
   "outputs": [
    {
     "name": "stdout",
     "output_type": "stream",
     "text": [
      "Después de append('Python'): [25, 1.78, 'Freddy', True, 'Python']\n"
     ]
    }
   ],
   "source": [
    "# 5) Añadir un string a la lista\n",
    "mi_lista.append(\"Python\")\n",
    "print(\"Después de append('Python'):\", mi_lista)"
   ]
  },
  {
   "cell_type": "code",
   "execution_count": null,
   "id": "e1a8b0d3",
   "metadata": {},
   "outputs": [
    {
     "name": "stdout",
     "output_type": "stream",
     "text": [
      "Después de remove(True): [25, 1.78, 'Freddy', 'Python'] \n",
      "\n"
     ]
    }
   ],
   "source": [
    "# 6) Remover el booleano (True) de la lista\n",
    "# remove() elimina la primera aparición del valor dado\n",
    "mi_lista.remove(True)\n",
    "print(\"Después de remove(True):\", mi_lista, \"\\n\")"
   ]
  },
  {
   "cell_type": "code",
   "execution_count": null,
   "id": "f45b4d35",
   "metadata": {},
   "outputs": [
    {
     "name": "stdout",
     "output_type": "stream",
     "text": [
      "Tupla: ('dato_texto', False, (10, 20, 30))\n"
     ]
    }
   ],
   "source": [
    "# 7) Definir un tuple con: string, boolean, y una tuple numérica\n",
    "tupla_numerica = (10, 20, 30)\n",
    "mi_tupla = (\"dato_texto\", False, tupla_numerica)\n",
    "print(\"Tupla:\", mi_tupla)"
   ]
  },
  {
   "cell_type": "code",
   "execution_count": null,
   "id": "9c7f939e",
   "metadata": {},
   "outputs": [
    {
     "name": "stdout",
     "output_type": "stream",
     "text": [
      "\n",
      "Demostración de inmutabilidad:\n",
      "No se puede modificar una tupla. Error capturado: 'tuple' object does not support item assignment\n"
     ]
    }
   ],
   "source": [
    "# 8) Explicar inmutabilidad y demostrar error:\n",
    "# Las tuplas son INMUTABLES: no puedes reasignar, añadir o borrar elementos.\n",
    "# Intento de modificar un elemento -> TypeError\n",
    "try:\n",
    "    mi_tupla[0] = \"otro_texto\"   # Esto debe fallar\n",
    "except TypeError as e:\n",
    "    print(\"\\nDemostración de inmutabilidad:\")\n",
    "    print(\"No se puede modificar una tupla. Error capturado:\", e)"
   ]
  },
  {
   "cell_type": "markdown",
   "id": "9f938c77",
   "metadata": {},
   "source": [
    "# Función que recibe un diccionario de películas"
   ]
  },
  {
   "cell_type": "code",
   "execution_count": 1,
   "id": "bb00d491",
   "metadata": {},
   "outputs": [
    {
     "data": {
      "text/plain": [
       "['The movie Orgullo y prejuicio belongs to the Romance/Drama genre and was released in 2005.',\n",
       " 'The movie Pingüinos de papá belongs to the Comedia/Familiar genre and was released in 2011.',\n",
       " 'The movie Legalmente rubia belongs to the Comedia genre and was released in 2001.']"
      ]
     },
     "execution_count": 1,
     "metadata": {},
     "output_type": "execute_result"
    }
   ],
   "source": [
    "def movie_summary(movies):\n",
    "    summaries = []\n",
    "    for title, info in movies.items():\n",
    "        sentence = f\"The movie {title} belongs to the {info['genre']} genre and was released in {info['year']}.\"\n",
    "        summaries.append(sentence)\n",
    "    return summaries\n",
    "\n",
    "# Diccionario con las películas del grupo\n",
    "movies = {\n",
    "    \"Orgullo y prejuicio\": {\"year\": 2005, \"genre\": \"Romance/Drama\"},\n",
    "    \"Pingüinos de papá\": {\"year\": 2011, \"genre\": \"Comedia/Familiar\"},\n",
    "    \"Legalmente rubia\": {\"year\": 2001, \"genre\": \"Comedia\"}\n",
    "}\n",
    "\n",
    "# Probar la función\n",
    "movie_summary(movies)"
   ]
  },
  {
   "cell_type": "markdown",
   "id": "ba6380cc",
   "metadata": {},
   "source": [
    "# Función que recibe un diccionario de películas"
   ]
  },
  {
   "cell_type": "code",
   "execution_count": 1,
   "id": "36086cb9",
   "metadata": {},
   "outputs": [
    {
     "name": "stdout",
     "output_type": "stream",
     "text": [
      "Matriz generada:\n",
      " [[71 92 19 80]\n",
      " [ 9 93 47 21]\n",
      " [77 93 12 73]\n",
      " [18 61 84 94]]\n",
      "\n",
      "Media por columna: [43.75 84.75 40.5  67.  ]\n",
      "\n",
      "Suma de la diagonal principal: 270\n"
     ]
    }
   ],
   "source": [
    "\n",
    "import numpy as np\n",
    "\n",
    "# Generar matriz 4x4 con enteros aleatorios entre 1 y 100\n",
    "matrix = np.random.randint(1, 101, size=(4,4))\n",
    "print(\"Matriz generada:\\n\", matrix)\n",
    "\n",
    "# Calcular la media por columna\n",
    "mean_per_column = np.mean(matrix, axis=0)\n",
    "print(\"\\nMedia por columna:\", mean_per_column)\n",
    "\n",
    "# Calcular la suma de la diagonal principal\n",
    "sum_diagonal = np.trace(matrix)\n",
    "print(\"\\nSuma de la diagonal principal:\", sum_diagonal)"
   ]
  },
  {
   "cell_type": "code",
   "execution_count": null,
   "id": "83ed134e",
   "metadata": {},
   "outputs": [],
   "source": []
  }
 ],
 "metadata": {
  "kernelspec": {
   "display_name": "Python 3 (ipykernel)",
   "language": "python",
   "name": "python3"
  },
  "language_info": {
   "codemirror_mode": {
    "name": "ipython",
    "version": 3
   },
   "file_extension": ".py",
   "mimetype": "text/x-python",
   "name": "python",
   "nbconvert_exporter": "python",
   "pygments_lexer": "ipython3",
   "version": "3.11.5"
  }
 },
 "nbformat": 4,
 "nbformat_minor": 5
}
