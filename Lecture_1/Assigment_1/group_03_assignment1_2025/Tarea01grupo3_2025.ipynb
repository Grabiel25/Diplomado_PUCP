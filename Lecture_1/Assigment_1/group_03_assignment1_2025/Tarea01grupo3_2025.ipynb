{
 "cells": [
  {
   "cell_type": "code",
   "execution_count": 3,
   "id": "349a1fef",
   "metadata": {},
   "outputs": [],
   "source": [
    "# Parte 2A: Data Types & List/Tuple"
   ]
  },
  {
   "cell_type": "code",
   "execution_count": 4,
   "id": "1fd6fc7b",
   "metadata": {},
   "outputs": [],
   "source": [
    "# 1) Declarar variables int, float, string, bool\n",
    "edad = 25                 # int\n",
    "altura = 1.78             # float\n",
    "nombre = \"Freddy\"         # string\n",
    "es_estudiante = True      # bool"
   ]
  },
  {
   "cell_type": "code",
   "execution_count": 5,
   "id": "db040029",
   "metadata": {},
   "outputs": [
    {
     "name": "stdout",
     "output_type": "stream",
     "text": [
      "Tipos de variables:\n",
      "<class 'int'> <class 'float'> <class 'str'> <class 'bool'> \n",
      "\n"
     ]
    }
   ],
   "source": [
    "# 2) Imprimir type() de cada una\n",
    "print(\"Tipos de variables:\")\n",
    "print(type(edad), type(altura), type(nombre), type(es_estudiante), \"\\n\")"
   ]
  },
  {
   "cell_type": "code",
   "execution_count": 6,
   "id": "8e214161",
   "metadata": {},
   "outputs": [
    {
     "name": "stdout",
     "output_type": "stream",
     "text": [
      "Lista inicial: [25, 1.78, 'Freddy', True]\n"
     ]
    }
   ],
   "source": [
    "# 3) Crear una lista con los elementos pedidos (puedes mezclar tipos)\n",
    "mi_lista = [edad, altura, nombre, es_estudiante]\n",
    "print(\"Lista inicial:\", mi_lista)"
   ]
  },
  {
   "cell_type": "code",
   "execution_count": 7,
   "id": "f9045962",
   "metadata": {},
   "outputs": [
    {
     "name": "stdout",
     "output_type": "stream",
     "text": [
      "Primer elemento: 25\n",
      "Último elemento: True \n",
      "\n"
     ]
    }
   ],
   "source": [
    "# 4) Acceder al primer y último elemento\n",
    "print(\"Primer elemento:\", mi_lista[0])   # índice 0\n",
    "print(\"Último elemento:\", mi_lista[-1], \"\\n\")  # índice negativo"
   ]
  },
  {
   "cell_type": "code",
   "execution_count": 8,
   "id": "406b4900",
   "metadata": {},
   "outputs": [
    {
     "name": "stdout",
     "output_type": "stream",
     "text": [
      "Después de append('Python'): [25, 1.78, 'Freddy', True, 'Python']\n"
     ]
    }
   ],
   "source": [
    "# 5) Añadir un string a la lista\n",
    "mi_lista.append(\"Python\")\n",
    "print(\"Después de append('Python'):\", mi_lista)"
   ]
  },
  {
   "cell_type": "code",
   "execution_count": 9,
   "id": "e1a8b0d3",
   "metadata": {},
   "outputs": [
    {
     "name": "stdout",
     "output_type": "stream",
     "text": [
      "Después de remove(True): [25, 1.78, 'Freddy', 'Python'] \n",
      "\n"
     ]
    }
   ],
   "source": [
    "# 6) Remover el booleano (True) de la lista\n",
    "# remove() elimina la primera aparición del valor dado\n",
    "mi_lista.remove(True)\n",
    "print(\"Después de remove(True):\", mi_lista, \"\\n\")"
   ]
  },
  {
   "cell_type": "code",
   "execution_count": 10,
   "id": "f45b4d35",
   "metadata": {},
   "outputs": [
    {
     "name": "stdout",
     "output_type": "stream",
     "text": [
      "Tupla: ('dato_texto', False, (10, 20, 30))\n"
     ]
    }
   ],
   "source": [
    "# 7) Definir un tuple con: string, boolean, y una tuple numérica\n",
    "tupla_numerica = (10, 20, 30)\n",
    "mi_tupla = (\"dato_texto\", False, tupla_numerica)\n",
    "print(\"Tupla:\", mi_tupla)"
   ]
  },
  {
   "cell_type": "code",
   "execution_count": 11,
   "id": "9c7f939e",
   "metadata": {},
   "outputs": [
    {
     "name": "stdout",
     "output_type": "stream",
     "text": [
      "\n",
      "Demostración de inmutabilidad:\n",
      "No se puede modificar una tupla. Error capturado: 'tuple' object does not support item assignment\n"
     ]
    }
   ],
   "source": [
    "# 8) Explicar inmutabilidad y demostrar error:\n",
    "# Las tuplas son INMUTABLES: no puedes reasignar, añadir o borrar elementos.\n",
    "# Intento de modificar un elemento -> TypeError\n",
    "try:\n",
    "    mi_tupla[0] = \"otro_texto\"   # Esto debe fallar\n",
    "except TypeError as e:\n",
    "    print(\"\\nDemostración de inmutabilidad:\")\n",
    "    print(\"No se puede modificar una tupla. Error capturado:\", e)"
   ]
  }
 ],
 "metadata": {
  "kernelspec": {
   "display_name": "Python 3 (ipykernel)",
   "language": "python",
   "name": "python3"
  },
  "language_info": {
   "codemirror_mode": {
    "name": "ipython",
    "version": 3
   },
   "file_extension": ".py",
   "mimetype": "text/x-python",
   "name": "python",
   "nbconvert_exporter": "python",
   "pygments_lexer": "ipython3",
   "version": "3.11.5"
  }
 },
 "nbformat": 4,
 "nbformat_minor": 5
}
