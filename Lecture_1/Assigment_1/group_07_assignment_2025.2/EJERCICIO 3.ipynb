{
 "cells": [
  {
   "cell_type": "markdown",
   "id": "2d3c5887",
   "metadata": {},
   "source": [
    "# Pregunta 11"
   ]
  },
  {
   "cell_type": "code",
   "execution_count": 2,
   "id": "36391532",
   "metadata": {},
   "outputs": [],
   "source": [
    "import pandas as pd\n",
    "import numpy as np"
   ]
  },
  {
   "cell_type": "code",
   "execution_count": 3,
   "id": "1e0c138f",
   "metadata": {},
   "outputs": [
    {
     "data": {
      "text/plain": [
       "[15, 17, 20, 11, 13, 18, 19]"
      ]
     },
     "execution_count": 3,
     "metadata": {},
     "output_type": "execute_result"
    }
   ],
   "source": [
    "#we create a list of grades \n",
    "grades = [15, 17, 20, 11, 13, 18, 19]\n",
    "grades"
   ]
  },
  {
   "cell_type": "code",
   "execution_count": 4,
   "id": "cc8387fe",
   "metadata": {},
   "outputs": [
    {
     "data": {
      "text/plain": [
       "['Ana', 'Jorge', 'Valeria', 'Luis', 'María', 'Carlos', 'Sofía']"
      ]
     },
     "execution_count": 4,
     "metadata": {},
     "output_type": "execute_result"
    }
   ],
   "source": [
    "#we create a list of students\n",
    "students = [\"Ana\", \"Jorge\", \"Valeria\", \"Luis\", \"María\", \"Carlos\", \"Sofía\"]\n",
    "students"
   ]
  },
  {
   "cell_type": "code",
   "execution_count": null,
   "id": "19862f9e",
   "metadata": {},
   "outputs": [
    {
     "data": {
      "text/plain": [
       "Ana        15\n",
       "Jorge      17\n",
       "Valeria    20\n",
       "Luis       11\n",
       "María      13\n",
       "Carlos     18\n",
       "Sofía      19\n",
       "dtype: int64"
      ]
     },
     "execution_count": 5,
     "metadata": {},
     "output_type": "execute_result"
    }
   ],
   "source": [
    "#this scrop creates a DataFrame with the grades and students\n",
    "grades_series = pd.Series(grades, index=students)\n",
    "grades_series"
   ]
  },
  {
   "cell_type": "markdown",
   "id": "f0a87c9f",
   "metadata": {},
   "source": [
    "# 12\n",
    "\n",
    "We calculate the average grade, highest and lowest student\n"
   ]
  },
  {
   "cell_type": "code",
   "execution_count": 6,
   "id": "e0ca02bf",
   "metadata": {
    "scrolled": true
   },
   "outputs": [
    {
     "data": {
      "text/plain": [
       "16.142857142857142"
      ]
     },
     "execution_count": 6,
     "metadata": {},
     "output_type": "execute_result"
    }
   ],
   "source": [
    "#we calculate the average of the grades\n",
    "average = grades_series.mean()\n",
    "average"
   ]
  },
  {
   "cell_type": "code",
   "execution_count": 7,
   "id": "cfa2c47b",
   "metadata": {},
   "outputs": [
    {
     "data": {
      "text/plain": [
       "'Valeria'"
      ]
     },
     "execution_count": 7,
     "metadata": {},
     "output_type": "execute_result"
    }
   ],
   "source": [
    "#we calculate the  student with the highest grade\n",
    "highest_student = grades_series.idxmax()\n",
    "highest_student"
   ]
  },
  {
   "cell_type": "code",
   "execution_count": 8,
   "id": "ec80212b",
   "metadata": {},
   "outputs": [
    {
     "data": {
      "text/plain": [
       "20"
      ]
     },
     "execution_count": 8,
     "metadata": {},
     "output_type": "execute_result"
    }
   ],
   "source": [
    "highest_grade = grades_series.max()\n",
    "highest_grade"
   ]
  },
  {
   "cell_type": "code",
   "execution_count": 9,
   "id": "23702028",
   "metadata": {},
   "outputs": [
    {
     "data": {
      "text/plain": [
       "'Luis'"
      ]
     },
     "execution_count": 9,
     "metadata": {},
     "output_type": "execute_result"
    }
   ],
   "source": [
    "#we calculate the student with the lowest grade \n",
    "lowest_student = grades_series.idxmin()\n",
    "lowest_student"
   ]
  },
  {
   "cell_type": "code",
   "execution_count": 10,
   "id": "88e35284",
   "metadata": {},
   "outputs": [
    {
     "data": {
      "text/plain": [
       "11"
      ]
     },
     "execution_count": 10,
     "metadata": {},
     "output_type": "execute_result"
    }
   ],
   "source": [
    "lowest_grade = grades_series.min()\n",
    "lowest_grade"
   ]
  },
  {
   "cell_type": "code",
   "execution_count": null,
   "id": "596b36df",
   "metadata": {},
   "outputs": [
    {
     "name": "stdout",
     "output_type": "stream",
     "text": [
      "Promedio de notas es de 16.142857142857142\n",
      "La nota más alta 20 es de Valeria\n",
      "La nota más baja 11 es de Luis\n"
     ]
    }
   ],
   "source": [
    "print(\"El promedio de notas es de\", average)\n",
    "print(\"La nota más alta\", highest_grade, \"es de\", highest_student)\n",
    "print(\"La nota más baja\", lowest_grade, \"es de\", lowest_student)"
   ]
  },
  {
   "cell_type": "markdown",
   "id": "fab701dd",
   "metadata": {},
   "source": [
    "# Pregunta 13"
   ]
  },
  {
   "cell_type": "code",
   "execution_count": 12,
   "id": "3449aedc",
   "metadata": {},
   "outputs": [
    {
     "data": {
      "text/plain": [
       "{'Peru': 'Lima',\n",
       " 'Argentina': 'Buenos Aires',\n",
       " 'Brazil': 'Brasilia',\n",
       " 'Colombia': 'Bogota',\n",
       " 'Mexico': 'Ciudad De Mexico',\n",
       " 'Chile': 'Santiago',\n",
       " 'Ecuador': 'Quito',\n",
       " 'Bolivia': 'La Paz',\n",
       " 'Venezuela': 'Caracas',\n",
       " 'Uruguay': 'Montevideo',\n",
       " 'Paraguay': 'Asuncion',\n",
       " 'Canada': 'Ottawa',\n",
       " 'USA': 'Washington',\n",
       " 'France': 'Paris',\n",
       " 'Germany': 'Berlin',\n",
       " 'Italy': 'Rome',\n",
       " 'Spain': 'Madrid',\n",
       " 'Portugal': 'Lisbon',\n",
       " 'UK': 'London',\n",
       " 'Japan': 'Tokyo'}"
      ]
     },
     "execution_count": 12,
     "metadata": {},
     "output_type": "execute_result"
    }
   ],
   "source": [
    "#we create the a dictionary of countries and their capitals.\n",
    "countries_capitals = {\n",
    "    \"Peru\": \"Lima\",\n",
    "    \"Argentina\": \"Buenos Aires\",\n",
    "    \"Brazil\": \"Brasilia\",\n",
    "    \"Colombia\": \"Bogota\",\n",
    "    \"Mexico\": \"Ciudad De Mexico\",\n",
    "    \"Chile\": \"Santiago\",\n",
    "    \"Ecuador\": \"Quito\",\n",
    "    \"Bolivia\": \"La Paz\",\n",
    "    \"Venezuela\": \"Caracas\",\n",
    "    \"Uruguay\": \"Montevideo\",\n",
    "    \"Paraguay\": \"Asuncion\",\n",
    "    \"Canada\": \"Ottawa\",\n",
    "    \"USA\": \"Washington\",\n",
    "    \"France\": \"Paris\",\n",
    "    \"Germany\": \"Berlin\",\n",
    "    \"Italy\": \"Rome\",\n",
    "    \"Spain\": \"Madrid\",\n",
    "    \"Portugal\": \"Lisbon\",\n",
    "    \"UK\": \"London\",\n",
    "    \"Japan\": \"Tokyo\" }\n",
    "countries_capitals"
   ]
  },
  {
   "cell_type": "code",
   "execution_count": 13,
   "id": "4632deea",
   "metadata": {},
   "outputs": [
    {
     "data": {
      "text/plain": [
       "Peru                     Lima\n",
       "Argentina        Buenos Aires\n",
       "Brazil               Brasilia\n",
       "Colombia               Bogota\n",
       "Mexico       Ciudad De Mexico\n",
       "Chile                Santiago\n",
       "Ecuador                 Quito\n",
       "Bolivia                La Paz\n",
       "Venezuela             Caracas\n",
       "Uruguay            Montevideo\n",
       "Paraguay             Asuncion\n",
       "Canada                 Ottawa\n",
       "USA                Washington\n",
       "France                  Paris\n",
       "Germany                Berlin\n",
       "Italy                    Rome\n",
       "Spain                  Madrid\n",
       "Portugal               Lisbon\n",
       "UK                     London\n",
       "Japan                   Tokyo\n",
       "dtype: object"
      ]
     },
     "execution_count": 13,
     "metadata": {},
     "output_type": "execute_result"
    }
   ],
   "source": [
    "capitals_series = pd.Series(countries_capitals)\n",
    "capitals_series"
   ]
  },
  {
   "cell_type": "code",
   "execution_count": 14,
   "id": "39ec032f",
   "metadata": {},
   "outputs": [
    {
     "data": {
      "text/plain": [
       "Argentina        Buenos Aires\n",
       "Brazil               Brasilia\n",
       "Mexico       Ciudad De Mexico\n",
       "Chile                Santiago\n",
       "Venezuela             Caracas\n",
       "Uruguay            Montevideo\n",
       "Paraguay             Asuncion\n",
       "USA                Washington\n",
       "dtype: object"
      ]
     },
     "execution_count": 14,
     "metadata": {},
     "output_type": "execute_result"
    }
   ],
   "source": [
    "#we filter the data\n",
    "filtered = capitals_series[capitals_series.str.len() > 6]\n",
    "filtered"
   ]
  },
  {
   "cell_type": "code",
   "execution_count": 15,
   "id": "207c19f5",
   "metadata": {},
   "outputs": [
    {
     "name": "stdout",
     "output_type": "stream",
     "text": [
      "      Todas las capitales\n",
      "Peru                     Lima\n",
      "Argentina        Buenos Aires\n",
      "Brazil               Brasilia\n",
      "Colombia               Bogota\n",
      "Mexico       Ciudad De Mexico\n",
      "Chile                Santiago\n",
      "Ecuador                 Quito\n",
      "Bolivia                La Paz\n",
      "Venezuela             Caracas\n",
      "Uruguay            Montevideo\n",
      "Paraguay             Asuncion\n",
      "Canada                 Ottawa\n",
      "USA                Washington\n",
      "France                  Paris\n",
      "Germany                Berlin\n",
      "Italy                    Rome\n",
      "Spain                  Madrid\n",
      "Portugal               Lisbon\n",
      "UK                     London\n",
      "Japan                   Tokyo\n",
      "dtype: object\n"
     ]
    }
   ],
   "source": [
    "print(\"      Todas las capitales\")\n",
    "print(capitals_series)"
   ]
  },
  {
   "cell_type": "code",
   "execution_count": 16,
   "id": "80d07e1c",
   "metadata": {},
   "outputs": [
    {
     "name": "stdout",
     "output_type": "stream",
     "text": [
      "Capitales con más de 6 letras\n",
      "Argentina        Buenos Aires\n",
      "Brazil               Brasilia\n",
      "Mexico       Ciudad De Mexico\n",
      "Chile                Santiago\n",
      "Venezuela             Caracas\n",
      "Uruguay            Montevideo\n",
      "Paraguay             Asuncion\n",
      "USA                Washington\n",
      "dtype: object\n"
     ]
    }
   ],
   "source": [
    "print(\"Capitales con más de 6 letras\")\n",
    "print(filtered)"
   ]
  },
  {
   "cell_type": "markdown",
   "id": "5ae8ef81",
   "metadata": {},
   "source": [
    "# Pregunta 14"
   ]
  },
  {
   "cell_type": "code",
   "execution_count": 19,
   "id": "832bebc7",
   "metadata": {},
   "outputs": [
    {
     "name": "stdout",
     "output_type": "stream",
     "text": [
      ".Flores diversas.\n"
     ]
    },
    {
     "data": {
      "text/plain": [
       "0         rosa\n",
       "1      girasol\n",
       "2    margarita\n",
       "3        dalia\n",
       "4       clavel\n",
       "5       jazmin\n",
       "6     orquidea\n",
       "7        lirio\n",
       "8      tulipan\n",
       "dtype: object"
      ]
     },
     "execution_count": 19,
     "metadata": {},
     "output_type": "execute_result"
    }
   ],
   "source": [
    "#we create the Serie \"flowers\"\n",
    "flowers = pd.Series ([\"rosa\", \"girasol\", \"margarita\", \"dalia\", \"clavel\", \"jazmin\", \"orquidea\", \"lirio\", \"tulipan\"])\n",
    "print(\".Flores diversas.\")\n",
    "flowers"
   ]
  },
  {
   "cell_type": "code",
   "execution_count": 20,
   "id": "c986f54d",
   "metadata": {},
   "outputs": [
    {
     "data": {
      "text/plain": [
       "0         ROSA\n",
       "1      GIRASOL\n",
       "2    MARGARITA\n",
       "3        DALIA\n",
       "4       CLAVEL\n",
       "5       JAZMIN\n",
       "6     ORQUIDEA\n",
       "7        LIRIO\n",
       "8      TULIPAN\n",
       "dtype: object"
      ]
     },
     "execution_count": 20,
     "metadata": {},
     "output_type": "execute_result"
    }
   ],
   "source": [
    "#convertimos a mayúsculas\n",
    "flowersmay = flowers.apply(str.upper)\n",
    "flowersmay"
   ]
  },
  {
   "cell_type": "code",
   "execution_count": 21,
   "id": "e32522a4",
   "metadata": {},
   "outputs": [
    {
     "name": "stdout",
     "output_type": "stream",
     "text": [
      "Flores diversas en mayúscula\n",
      "0         ROSA\n",
      "1      GIRASOL\n",
      "2    MARGARITA\n",
      "3        DALIA\n",
      "4       CLAVEL\n",
      "5       JAZMIN\n",
      "6     ORQUIDEA\n",
      "7        LIRIO\n",
      "8      TULIPAN\n",
      "dtype: object\n"
     ]
    }
   ],
   "source": [
    "print (\"Flores diversas en mayúscula\")\n",
    "print (flowersmay)"
   ]
  }
 ],
 "metadata": {
  "kernelspec": {
   "display_name": "Python 3 (ipykernel)",
   "language": "python",
   "name": "python3"
  },
  "language_info": {
   "codemirror_mode": {
    "name": "ipython",
    "version": 3
   },
   "file_extension": ".py",
   "mimetype": "text/x-python",
   "name": "python",
   "nbconvert_exporter": "python",
   "pygments_lexer": "ipython3",
   "version": "3.11.5"
  }
 },
 "nbformat": 4,
 "nbformat_minor": 5
}
