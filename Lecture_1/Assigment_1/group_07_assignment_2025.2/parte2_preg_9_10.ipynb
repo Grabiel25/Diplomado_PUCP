{
 "cells": [
  {
   "cell_type": "markdown",
   "id": "6213a281",
   "metadata": {},
   "source": [
    "## 9. Función `movie_summary(movies_dict)`\n",
    "\n",
    "Dado un diccionario de películas con la forma:  \n",
    "```python\n",
    "movies = {\n",
    "    \"Inception\": {\"year\": 2010, \"genre\": \"Sci-Fi\"},\n",
    "    \"Parasite\": {\"year\": 2019, \"genre\": \"Drama\"},\n",
    "    \"Whiplash\": {\"year\": 2014, \"genre\": \"Drama\"}\n",
    "}\n",
    "```\n",
    "La función debe devolver una **lista** de oraciones:  \n",
    "`\"La película Inception pertenece al género Sci-Fi y se estrenó en 2010.\"`\n"
   ]
  },
  {
   "cell_type": "code",
   "execution_count": 17,
   "id": "88d6dde1-4d64-4014-b96a-1c8467e71386",
   "metadata": {},
   "outputs": [
    {
     "name": "stdout",
     "output_type": "stream",
     "text": [
      "La película Inception pertenece al género Sci-Fi y fue lanzada en 2010.\n",
      "La película Parasite pertenece al género Drama y fue lanzada en 2019.\n",
      "La película Whiplash pertenece al género Drama y fue lanzada en 2014.\n"
     ]
    }
   ],
   "source": [
    "# Declaración de variables\n",
    "\n",
    "# definir movie\n",
    "movies = {\n",
    "    \"Inception\": {\"year\": 2010, \"genre\": \"Sci-Fi\"},\n",
    "    \"Parasite\": {\"year\": 2019, \"genre\": \"Drama\"},\n",
    "    \"Whiplash\": {\"year\": 2014, \"genre\": \"Drama\"}\n",
    "}\n",
    "\n",
    "# uso de la funcion movie_summary(movies)\n",
    "\n",
    "def movie_summary(movies_dict):\n",
    "    resumen = []\n",
    "    for titulo, info in movies_dict.items():\n",
    "        frase = f\"La película {titulo} pertenece al género {info['genre']} y fue lanzada en {info['year']}.\"\n",
    "        resumen.append(frase)\n",
    "    return resumen\n",
    "\n",
    "\n",
    "# Usar la función\n",
    "for linea in movie_summary(movies):\n",
    "    print(linea)\n"
   ]
  },
  {
   "cell_type": "code",
   "execution_count": null,
   "id": "cb76f338",
   "metadata": {},
   "outputs": [],
   "source": []
  },
  {
   "cell_type": "markdown",
   "id": "bb7e659e-3ae2-41ed-a9a6-b5b076c21423",
   "metadata": {},
   "source": [
    "## 10. Usando NumPy , genere una matriz de 4x4 con números enteros aleatorios entre 1 y 100.\n",
    "Luego calcule:\n",
    "\n",
    "La media por columna\n",
    "\n",
    "La suma de los valores en la diagonal principal\n"
   ]
  },
  {
   "cell_type": "code",
   "execution_count": 23,
   "id": "d7a457b8",
   "metadata": {},
   "outputs": [
    {
     "name": "stdout",
     "output_type": "stream",
     "text": [
      "Matriz 4x4 aleatoria: [[95 73  7 68]\n",
      " [89  2  9 61]\n",
      " [53 54 20 39]\n",
      " [92 83 41 84]]\n",
      "Media por columna: [82.25 53.   19.25 63.  ]\n",
      "Suma de la diagonal principal: 201\n"
     ]
    }
   ],
   "source": [
    "# 10) Cálculos con NumPy\n",
    "import numpy as np\n",
    "\n",
    "matriz = np.random.randint(1, 101, size=(4, 4))\n",
    "print(\"Matriz 4x4 aleatoria:\", matriz)\n",
    "\n",
    "media_por_columna = matriz.mean(axis=0)\n",
    "suma_diagonal = np.trace(matriz)\n",
    "\n",
    "print(\"Media por columna:\", media_por_columna)\n",
    "print(\"Suma de la diagonal principal:\", suma_diagonal)"
   ]
  }
 ],
 "metadata": {
  "kernelspec": {
   "display_name": "Python 3 (ipykernel)",
   "language": "python",
   "name": "python3"
  },
  "language_info": {
   "codemirror_mode": {
    "name": "ipython",
    "version": 3
   },
   "file_extension": ".py",
   "mimetype": "text/x-python",
   "name": "python",
   "nbconvert_exporter": "python",
   "pygments_lexer": "ipython3",
   "version": "3.12.7"
  }
 },
 "nbformat": 4,
 "nbformat_minor": 5
}
